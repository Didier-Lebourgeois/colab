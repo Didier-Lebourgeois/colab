{
  "nbformat": 4,
  "nbformat_minor": 0,
  "metadata": {
    "colab": {
      "name": "Trancodage_paie_budgets_annexes.ipynb",
      "provenance": [],
      "collapsed_sections": [],
      "include_colab_link": true
    },
    "kernelspec": {
      "name": "python3",
      "display_name": "Python 3"
    },
    "language_info": {
      "name": "python"
    }
  },
  "cells": [
    {
      "cell_type": "markdown",
      "metadata": {
        "id": "view-in-github",
        "colab_type": "text"
      },
      "source": [
        "<a href=\"https://colab.research.google.com/github/Didier-Lebourgeois/colab/blob/main/Trancodage_paie_budgets_annexes.ipynb\" target=\"_parent\"><img src=\"https://colab.research.google.com/assets/colab-badge.svg\" alt=\"Open In Colab\"/></a>"
      ]
    },
    {
      "cell_type": "markdown",
      "source": [
        "#TRANSCODAGE DES MANDATS DE PAIE DES BUDGETS ANNEXES\n",
        "Le présent script permet le trancodage des éléments de paie\n",
        "des budgets annexes présents dans le fichier \"mandat.txt\" produit par le SIRH en vue de l'importation du fichier résultant dans le progiciel de Finances.\n",
        "\n",
        "\n"
      ],
      "metadata": {
        "id": "3rPO1TaQvk2c"
      }
    },
    {
      "cell_type": "code",
      "execution_count": null,
      "metadata": {
        "id": "WiWt1T2M2Pi8"
      },
      "outputs": [],
      "source": [
        "# IMPORT DES MODULES NECESSAIRES\n",
        "import re\n",
        "from google.colab import files"
      ]
    },
    {
      "cell_type": "markdown",
      "source": [
        "CLIQUEZ SUR LE BOUTON \"select. fichiers\" CI-DESSOUS PUIS EN CHOISISSEZ LE FICHIER A TRANSCODER. IL DOIT IMPERATIVEMENT SE NOMMER \"mandat.txt\""
      ],
      "metadata": {
        "id": "13jmlAJy3v7w"
      }
    },
    {
      "cell_type": "code",
      "source": [
        "\n",
        "a_trancoder = files.upload()"
      ],
      "metadata": {
        "id": "6NO-wZk22XA5",
        "colab": {
          "resources": {
            "http://localhost:8080/nbextensions/google.colab/files.js": {
              "data": "Ly8gQ29weXJpZ2h0IDIwMTcgR29vZ2xlIExMQwovLwovLyBMaWNlbnNlZCB1bmRlciB0aGUgQXBhY2hlIExpY2Vuc2UsIFZlcnNpb24gMi4wICh0aGUgIkxpY2Vuc2UiKTsKLy8geW91IG1heSBub3QgdXNlIHRoaXMgZmlsZSBleGNlcHQgaW4gY29tcGxpYW5jZSB3aXRoIHRoZSBMaWNlbnNlLgovLyBZb3UgbWF5IG9idGFpbiBhIGNvcHkgb2YgdGhlIExpY2Vuc2UgYXQKLy8KLy8gICAgICBodHRwOi8vd3d3LmFwYWNoZS5vcmcvbGljZW5zZXMvTElDRU5TRS0yLjAKLy8KLy8gVW5sZXNzIHJlcXVpcmVkIGJ5IGFwcGxpY2FibGUgbGF3IG9yIGFncmVlZCB0byBpbiB3cml0aW5nLCBzb2Z0d2FyZQovLyBkaXN0cmlidXRlZCB1bmRlciB0aGUgTGljZW5zZSBpcyBkaXN0cmlidXRlZCBvbiBhbiAiQVMgSVMiIEJBU0lTLAovLyBXSVRIT1VUIFdBUlJBTlRJRVMgT1IgQ09ORElUSU9OUyBPRiBBTlkgS0lORCwgZWl0aGVyIGV4cHJlc3Mgb3IgaW1wbGllZC4KLy8gU2VlIHRoZSBMaWNlbnNlIGZvciB0aGUgc3BlY2lmaWMgbGFuZ3VhZ2UgZ292ZXJuaW5nIHBlcm1pc3Npb25zIGFuZAovLyBsaW1pdGF0aW9ucyB1bmRlciB0aGUgTGljZW5zZS4KCi8qKgogKiBAZmlsZW92ZXJ2aWV3IEhlbHBlcnMgZm9yIGdvb2dsZS5jb2xhYiBQeXRob24gbW9kdWxlLgogKi8KKGZ1bmN0aW9uKHNjb3BlKSB7CmZ1bmN0aW9uIHNwYW4odGV4dCwgc3R5bGVBdHRyaWJ1dGVzID0ge30pIHsKICBjb25zdCBlbGVtZW50ID0gZG9jdW1lbnQuY3JlYXRlRWxlbWVudCgnc3BhbicpOwogIGVsZW1lbnQudGV4dENvbnRlbnQgPSB0ZXh0OwogIGZvciAoY29uc3Qga2V5IG9mIE9iamVjdC5rZXlzKHN0eWxlQXR0cmlidXRlcykpIHsKICAgIGVsZW1lbnQuc3R5bGVba2V5XSA9IHN0eWxlQXR0cmlidXRlc1trZXldOwogIH0KICByZXR1cm4gZWxlbWVudDsKfQoKLy8gTWF4IG51bWJlciBvZiBieXRlcyB3aGljaCB3aWxsIGJlIHVwbG9hZGVkIGF0IGEgdGltZS4KY29uc3QgTUFYX1BBWUxPQURfU0laRSA9IDEwMCAqIDEwMjQ7CgpmdW5jdGlvbiBfdXBsb2FkRmlsZXMoaW5wdXRJZCwgb3V0cHV0SWQpIHsKICBjb25zdCBzdGVwcyA9IHVwbG9hZEZpbGVzU3RlcChpbnB1dElkLCBvdXRwdXRJZCk7CiAgY29uc3Qgb3V0cHV0RWxlbWVudCA9IGRvY3VtZW50LmdldEVsZW1lbnRCeUlkKG91dHB1dElkKTsKICAvLyBDYWNoZSBzdGVwcyBvbiB0aGUgb3V0cHV0RWxlbWVudCB0byBtYWtlIGl0IGF2YWlsYWJsZSBmb3IgdGhlIG5leHQgY2FsbAogIC8vIHRvIHVwbG9hZEZpbGVzQ29udGludWUgZnJvbSBQeXRob24uCiAgb3V0cHV0RWxlbWVudC5zdGVwcyA9IHN0ZXBzOwoKICByZXR1cm4gX3VwbG9hZEZpbGVzQ29udGludWUob3V0cHV0SWQpOwp9CgovLyBUaGlzIGlzIHJvdWdobHkgYW4gYXN5bmMgZ2VuZXJhdG9yIChub3Qgc3VwcG9ydGVkIGluIHRoZSBicm93c2VyIHlldCksCi8vIHdoZXJlIHRoZXJlIGFyZSBtdWx0aXBsZSBhc3luY2hyb25vdXMgc3RlcHMgYW5kIHRoZSBQeXRob24gc2lkZSBpcyBnb2luZwovLyB0byBwb2xsIGZvciBjb21wbGV0aW9uIG9mIGVhY2ggc3RlcC4KLy8gVGhpcyB1c2VzIGEgUHJvbWlzZSB0byBibG9jayB0aGUgcHl0aG9uIHNpZGUgb24gY29tcGxldGlvbiBvZiBlYWNoIHN0ZXAsCi8vIHRoZW4gcGFzc2VzIHRoZSByZXN1bHQgb2YgdGhlIHByZXZpb3VzIHN0ZXAgYXMgdGhlIGlucHV0IHRvIHRoZSBuZXh0IHN0ZXAuCmZ1bmN0aW9uIF91cGxvYWRGaWxlc0NvbnRpbnVlKG91dHB1dElkKSB7CiAgY29uc3Qgb3V0cHV0RWxlbWVudCA9IGRvY3VtZW50LmdldEVsZW1lbnRCeUlkKG91dHB1dElkKTsKICBjb25zdCBzdGVwcyA9IG91dHB1dEVsZW1lbnQuc3RlcHM7CgogIGNvbnN0IG5leHQgPSBzdGVwcy5uZXh0KG91dHB1dEVsZW1lbnQubGFzdFByb21pc2VWYWx1ZSk7CiAgcmV0dXJuIFByb21pc2UucmVzb2x2ZShuZXh0LnZhbHVlLnByb21pc2UpLnRoZW4oKHZhbHVlKSA9PiB7CiAgICAvLyBDYWNoZSB0aGUgbGFzdCBwcm9taXNlIHZhbHVlIHRvIG1ha2UgaXQgYXZhaWxhYmxlIHRvIHRoZSBuZXh0CiAgICAvLyBzdGVwIG9mIHRoZSBnZW5lcmF0b3IuCiAgICBvdXRwdXRFbGVtZW50Lmxhc3RQcm9taXNlVmFsdWUgPSB2YWx1ZTsKICAgIHJldHVybiBuZXh0LnZhbHVlLnJlc3BvbnNlOwogIH0pOwp9CgovKioKICogR2VuZXJhdG9yIGZ1bmN0aW9uIHdoaWNoIGlzIGNhbGxlZCBiZXR3ZWVuIGVhY2ggYXN5bmMgc3RlcCBvZiB0aGUgdXBsb2FkCiAqIHByb2Nlc3MuCiAqIEBwYXJhbSB7c3RyaW5nfSBpbnB1dElkIEVsZW1lbnQgSUQgb2YgdGhlIGlucHV0IGZpbGUgcGlja2VyIGVsZW1lbnQuCiAqIEBwYXJhbSB7c3RyaW5nfSBvdXRwdXRJZCBFbGVtZW50IElEIG9mIHRoZSBvdXRwdXQgZGlzcGxheS4KICogQHJldHVybiB7IUl0ZXJhYmxlPCFPYmplY3Q+fSBJdGVyYWJsZSBvZiBuZXh0IHN0ZXBzLgogKi8KZnVuY3Rpb24qIHVwbG9hZEZpbGVzU3RlcChpbnB1dElkLCBvdXRwdXRJZCkgewogIGNvbnN0IGlucHV0RWxlbWVudCA9IGRvY3VtZW50LmdldEVsZW1lbnRCeUlkKGlucHV0SWQpOwogIGlucHV0RWxlbWVudC5kaXNhYmxlZCA9IGZhbHNlOwoKICBjb25zdCBvdXRwdXRFbGVtZW50ID0gZG9jdW1lbnQuZ2V0RWxlbWVudEJ5SWQob3V0cHV0SWQpOwogIG91dHB1dEVsZW1lbnQuaW5uZXJIVE1MID0gJyc7CgogIGNvbnN0IHBpY2tlZFByb21pc2UgPSBuZXcgUHJvbWlzZSgocmVzb2x2ZSkgPT4gewogICAgaW5wdXRFbGVtZW50LmFkZEV2ZW50TGlzdGVuZXIoJ2NoYW5nZScsIChlKSA9PiB7CiAgICAgIHJlc29sdmUoZS50YXJnZXQuZmlsZXMpOwogICAgfSk7CiAgfSk7CgogIGNvbnN0IGNhbmNlbCA9IGRvY3VtZW50LmNyZWF0ZUVsZW1lbnQoJ2J1dHRvbicpOwogIGlucHV0RWxlbWVudC5wYXJlbnRFbGVtZW50LmFwcGVuZENoaWxkKGNhbmNlbCk7CiAgY2FuY2VsLnRleHRDb250ZW50ID0gJ0NhbmNlbCB1cGxvYWQnOwogIGNvbnN0IGNhbmNlbFByb21pc2UgPSBuZXcgUHJvbWlzZSgocmVzb2x2ZSkgPT4gewogICAgY2FuY2VsLm9uY2xpY2sgPSAoKSA9PiB7CiAgICAgIHJlc29sdmUobnVsbCk7CiAgICB9OwogIH0pOwoKICAvLyBXYWl0IGZvciB0aGUgdXNlciB0byBwaWNrIHRoZSBmaWxlcy4KICBjb25zdCBmaWxlcyA9IHlpZWxkIHsKICAgIHByb21pc2U6IFByb21pc2UucmFjZShbcGlja2VkUHJvbWlzZSwgY2FuY2VsUHJvbWlzZV0pLAogICAgcmVzcG9uc2U6IHsKICAgICAgYWN0aW9uOiAnc3RhcnRpbmcnLAogICAgfQogIH07CgogIGNhbmNlbC5yZW1vdmUoKTsKCiAgLy8gRGlzYWJsZSB0aGUgaW5wdXQgZWxlbWVudCBzaW5jZSBmdXJ0aGVyIHBpY2tzIGFyZSBub3QgYWxsb3dlZC4KICBpbnB1dEVsZW1lbnQuZGlzYWJsZWQgPSB0cnVlOwoKICBpZiAoIWZpbGVzKSB7CiAgICByZXR1cm4gewogICAgICByZXNwb25zZTogewogICAgICAgIGFjdGlvbjogJ2NvbXBsZXRlJywKICAgICAgfQogICAgfTsKICB9CgogIGZvciAoY29uc3QgZmlsZSBvZiBmaWxlcykgewogICAgY29uc3QgbGkgPSBkb2N1bWVudC5jcmVhdGVFbGVtZW50KCdsaScpOwogICAgbGkuYXBwZW5kKHNwYW4oZmlsZS5uYW1lLCB7Zm9udFdlaWdodDogJ2JvbGQnfSkpOwogICAgbGkuYXBwZW5kKHNwYW4oCiAgICAgICAgYCgke2ZpbGUudHlwZSB8fCAnbi9hJ30pIC0gJHtmaWxlLnNpemV9IGJ5dGVzLCBgICsKICAgICAgICBgbGFzdCBtb2RpZmllZDogJHsKICAgICAgICAgICAgZmlsZS5sYXN0TW9kaWZpZWREYXRlID8gZmlsZS5sYXN0TW9kaWZpZWREYXRlLnRvTG9jYWxlRGF0ZVN0cmluZygpIDoKICAgICAgICAgICAgICAgICAgICAgICAgICAgICAgICAgICAgJ24vYSd9IC0gYCkpOwogICAgY29uc3QgcGVyY2VudCA9IHNwYW4oJzAlIGRvbmUnKTsKICAgIGxpLmFwcGVuZENoaWxkKHBlcmNlbnQpOwoKICAgIG91dHB1dEVsZW1lbnQuYXBwZW5kQ2hpbGQobGkpOwoKICAgIGNvbnN0IGZpbGVEYXRhUHJvbWlzZSA9IG5ldyBQcm9taXNlKChyZXNvbHZlKSA9PiB7CiAgICAgIGNvbnN0IHJlYWRlciA9IG5ldyBGaWxlUmVhZGVyKCk7CiAgICAgIHJlYWRlci5vbmxvYWQgPSAoZSkgPT4gewogICAgICAgIHJlc29sdmUoZS50YXJnZXQucmVzdWx0KTsKICAgICAgfTsKICAgICAgcmVhZGVyLnJlYWRBc0FycmF5QnVmZmVyKGZpbGUpOwogICAgfSk7CiAgICAvLyBXYWl0IGZvciB0aGUgZGF0YSB0byBiZSByZWFkeS4KICAgIGxldCBmaWxlRGF0YSA9IHlpZWxkIHsKICAgICAgcHJvbWlzZTogZmlsZURhdGFQcm9taXNlLAogICAgICByZXNwb25zZTogewogICAgICAgIGFjdGlvbjogJ2NvbnRpbnVlJywKICAgICAgfQogICAgfTsKCiAgICAvLyBVc2UgYSBjaHVua2VkIHNlbmRpbmcgdG8gYXZvaWQgbWVzc2FnZSBzaXplIGxpbWl0cy4gU2VlIGIvNjIxMTU2NjAuCiAgICBsZXQgcG9zaXRpb24gPSAwOwogICAgZG8gewogICAgICBjb25zdCBsZW5ndGggPSBNYXRoLm1pbihmaWxlRGF0YS5ieXRlTGVuZ3RoIC0gcG9zaXRpb24sIE1BWF9QQVlMT0FEX1NJWkUpOwogICAgICBjb25zdCBjaHVuayA9IG5ldyBVaW50OEFycmF5KGZpbGVEYXRhLCBwb3NpdGlvbiwgbGVuZ3RoKTsKICAgICAgcG9zaXRpb24gKz0gbGVuZ3RoOwoKICAgICAgY29uc3QgYmFzZTY0ID0gYnRvYShTdHJpbmcuZnJvbUNoYXJDb2RlLmFwcGx5KG51bGwsIGNodW5rKSk7CiAgICAgIHlpZWxkIHsKICAgICAgICByZXNwb25zZTogewogICAgICAgICAgYWN0aW9uOiAnYXBwZW5kJywKICAgICAgICAgIGZpbGU6IGZpbGUubmFtZSwKICAgICAgICAgIGRhdGE6IGJhc2U2NCwKICAgICAgICB9LAogICAgICB9OwoKICAgICAgbGV0IHBlcmNlbnREb25lID0gZmlsZURhdGEuYnl0ZUxlbmd0aCA9PT0gMCA/CiAgICAgICAgICAxMDAgOgogICAgICAgICAgTWF0aC5yb3VuZCgocG9zaXRpb24gLyBmaWxlRGF0YS5ieXRlTGVuZ3RoKSAqIDEwMCk7CiAgICAgIHBlcmNlbnQudGV4dENvbnRlbnQgPSBgJHtwZXJjZW50RG9uZX0lIGRvbmVgOwoKICAgIH0gd2hpbGUgKHBvc2l0aW9uIDwgZmlsZURhdGEuYnl0ZUxlbmd0aCk7CiAgfQoKICAvLyBBbGwgZG9uZS4KICB5aWVsZCB7CiAgICByZXNwb25zZTogewogICAgICBhY3Rpb246ICdjb21wbGV0ZScsCiAgICB9CiAgfTsKfQoKc2NvcGUuZ29vZ2xlID0gc2NvcGUuZ29vZ2xlIHx8IHt9OwpzY29wZS5nb29nbGUuY29sYWIgPSBzY29wZS5nb29nbGUuY29sYWIgfHwge307CnNjb3BlLmdvb2dsZS5jb2xhYi5fZmlsZXMgPSB7CiAgX3VwbG9hZEZpbGVzLAogIF91cGxvYWRGaWxlc0NvbnRpbnVlLAp9Owp9KShzZWxmKTsK",
              "ok": true,
              "headers": [
                [
                  "content-type",
                  "application/javascript"
                ]
              ],
              "status": 200,
              "status_text": ""
            }
          },
          "base_uri": "https://localhost:8080/",
          "height": 73
        },
        "outputId": "e3f44d39-af99-41d3-cb46-c22a0cb20424"
      },
      "execution_count": null,
      "outputs": [
        {
          "output_type": "display_data",
          "data": {
            "text/html": [
              "\n",
              "     <input type=\"file\" id=\"files-d4cacf90-44c1-4584-bca2-7bf782297628\" name=\"files[]\" multiple disabled\n",
              "        style=\"border:none\" />\n",
              "     <output id=\"result-d4cacf90-44c1-4584-bca2-7bf782297628\">\n",
              "      Upload widget is only available when the cell has been executed in the\n",
              "      current browser session. Please rerun this cell to enable.\n",
              "      </output>\n",
              "      <script src=\"/nbextensions/google.colab/files.js\"></script> "
            ],
            "text/plain": [
              "<IPython.core.display.HTML object>"
            ]
          },
          "metadata": {}
        },
        {
          "output_type": "stream",
          "name": "stdout",
          "text": [
            "Saving mandat.txt to mandat.txt\n"
          ]
        }
      ]
    },
    {
      "cell_type": "code",
      "source": [
        "#@title PREPARATION DU FICHIER DEPOSE\n",
        "mandat = a_trancoder['mandat.txt'].decode('utf-8').split('\\n')"
      ],
      "metadata": {
        "id": "KDghFhek47BP"
      },
      "execution_count": null,
      "outputs": []
    },
    {
      "cell_type": "code",
      "source": [
        "#@title INITIALISATION DU COMPTEUR DE LIGNE\n",
        "converti = []\n",
        "compteur_ligne = 0 # pour compter le nombre de lignes traitées"
      ],
      "metadata": {
        "id": "ohvFiwKH2uyS"
      },
      "execution_count": null,
      "outputs": []
    },
    {
      "cell_type": "code",
      "source": [
        "#@title FONCTION DE SUBSTITUTION\n",
        "def substitution(ligne, expression):\n",
        "  \"\"\"\n",
        "  Effectue les modifications dans les lignes de mandats\n",
        "  et compte les modifications par ligne\n",
        "  \"\"\"\n",
        "  (ligne, modifs) = re.subn(expression[0], expression[1], ligne)\n",
        "  return ligne, modifs, expression\n"
      ],
      "metadata": {
        "id": "6xm8YGbvNmkp"
      },
      "execution_count": null,
      "outputs": []
    },
    {
      "cell_type": "code",
      "source": [
        "#@title REGLES DE SUBSTITUTION\n",
        "for ligne in mandat:\n",
        "  # traitement de l'antenne BASSIAD\n",
        "  (ligne, nombre, expression) = substitution(ligne,(r\"(.{20})(02\\d)(.+)(BASSIAD)  (.+)(D01)(.+)\",r\"\\1   \\3SAD    \\5D03\\7\"))\n",
        "  (ligne, nombre, expression) = substitution(ligne,(r\"(.{26})(6336)(.+)(SAD)(.+)\",r\"\\g<1>6334\\3\\4\\5\"))\n",
        "  (ligne, nombre, bassiad) = substitution(ligne,(r\"(.{26})(64118 )(.+)(SAD)(.+)\",r\"\\g<1>641188\\3\\4\\5\"))\n",
        "  (ligne, nombre, expression) = substitution(ligne,(r\"(.{26})(6451 )(.+)(SAD)(.+)\",r\"\\g<1>64511\\3\\4\\5\"))\n",
        "  (ligne, nombre, expression) = substitution(ligne,(r\"(.{26})(6453 )(.+)(SAD)(.+)\",r\"\\g<1>64515\\3\\4\\5\"))\n",
        "  (ligne, nombre, expression) = substitution(ligne,(r\"(.{26})(6454 )(.+)(SAD)(.+)\",r\"\\g<1>64514\\3\\4\\5\"))\n",
        "  (ligne, nombre, expression) = substitution(ligne,(r\"(.{26})(6455 )(.+)(SAD)(.+)\",r\"\\g<1>64512\\3\\4\\5\"))\n",
        "  (ligne, nombre, expression) = substitution(ligne,(r\"(.{26})(65888)(.+)(SAD)(.+)\",r\"\\g<1>6588\\3\\4\\5\"))\n",
        "  # traitement de l'antenne BAASSAIN\n",
        "  (ligne, nombre, expression) = substitution(ligne,(r\"(.{20})(020)(.+)(BAASSAIN)(.+)(D01)(.+)\",r\"\\1   \\3\\4\\5D02\\7\"))\n",
        "  (ligne, nombre, expression) = substitution(ligne,(r\"(.{26})(64\\d{3})(.+)(BAASSAIN)(.+)\",r\"\\g<1>6411 \\3\\4\\5\"))\n",
        "  (ligne, nombre, expression) = substitution(ligne,(r\"(.{26})(6455)(.+)(BAASSAIN)(.+)\",r\"\\g<1>6452\\3\\4\\5\"))\n",
        "  (ligne, nombre, expression) = substitution(ligne,(r\"(.{26})(65888)(.+)(BAASSAIN)(.+)\",r\"\\g<1>658  \\3\\4\\5\"))\n",
        "  # traitement de l'antenne BALP\n",
        "  (ligne, nombre, expression) = substitution(ligne,(r\"(.{20})(820)(.+)(BALP)(.+)(D01)(.+)\",r\"\\1\\2\\3\\4\\5D08\\7\"))\n",
        "  # traitement de l'antenne BAEAU\n",
        "  (ligne, nombre, expression) = substitution(ligne,(r\"(.{20})(020)(.+)(BAEAU)(.+)(D01)(.+)\",r\"\\1   \\3\\4\\5D09\\7\"))\n",
        "  (ligne, nombre, expression) = substitution(ligne,(r\"(.{26})(6455)(.+)(BAEAU)(.+)\",r\"\\g<1>6452\\3\\4\\5\"))\n",
        "  (ligne, nombre, expression) = substitution(ligne,(r\"(.{26})(65888)(.+)(BAEAU)(.+)\",r\"\\g<1>658  \\3\\4\\5\"))\n",
        "  (ligne, nombre, expression) = substitution(ligne,(r\"(.{26})(64\\d{3})(.+)(BAEAU)(.+)\",r\"\\g<1>6411 \\3\\4\\5\"))\n",
        "\t# traitement de l'antenne BAFDL\n",
        "  (ligne, nombre, expression) = substitution(ligne,(r\"(.{20})(33)(.+)(BAFDL)(.+)(D01)(.+)\",r\"\\1\\2\\3\\4\\5D10\\7\"))\n",
        "\t# traitement de l'antenne BAQH\n",
        "  (ligne, nombre, expression) = substitution(ligne,(r\"(.{20})(824)(.+)(BAQH)(.+)(D01)(.+)\",r\"\\1\\2\\3\\4\\5D11\\7\"))\n",
        "\t# traitement de l'antenne BAPA\n",
        "  (ligne, nombre, expression) = substitution(ligne,(r\"(.{20})(020)(.+)(BAPA)(.+)(D01)(.+)\",r\"\\1   \\3\\4\\5D13\\7\"))\n",
        "  (ligne, nombre, expression) = substitution(ligne,(r\"(.{26})(6455)(.+)(BAPA)(.+)\",r\"\\g<1>6452\\3\\4\\5\", ligne))\n",
        "  (ligne, nombre, expression) = substitution(ligne,(r\"(.{26})(65888)(.+)(BAPA)(.+)\",r\"\\g<1>658  \\3\\4\\5\", ligne))\n",
        "  (ligne, nombre, expression) = substitution(ligne,(r\"(.{26})(64\\d{3})(.+)(BAPA)(.+)\",r\"\\g<1>6411 \\3\\4\\5\", ligne))  \n",
        "  # fin des antennes\n",
        "  converti.append(ligne)\n",
        "  compteur_ligne += 1"
      ],
      "metadata": {
        "id": "iinWT6363Zmx"
      },
      "execution_count": null,
      "outputs": []
    },
    {
      "cell_type": "code",
      "source": [
        "#@title AFFICHAGE DU COMPTE RENDU\n",
        "print(\"COMPTE RENDU D'EXECUTION DU TRANCODAGE\")\n",
        "print(\"Les substitutions ont été réalisées sur les {0} lignes du fichier original\".format(compteur_ligne))\n",
        "print(\"Les différences entre fichier d'origine et fichier restitué\\n\"+\n",
        "\"peuvent être vérifiées avec Notepad++ ou Winmerge \")"
      ],
      "metadata": {
        "colab": {
          "base_uri": "https://localhost:8080/"
        },
        "id": "dICNaTB5gd2S",
        "outputId": "9a7aec95-810e-4517-be66-548079177d5b"
      },
      "execution_count": null,
      "outputs": [
        {
          "output_type": "stream",
          "name": "stdout",
          "text": [
            "COMPTE RENDU D'EXECUTION DU TRANCODAGE\n",
            "Les substitutions ont été réalisées sur les 3044 lignes du fichier original\n",
            "Les différences entre fichier d'origine et fichier restitué\n",
            "peuvent être vérifiées avec Notepad++ ou Winmerge \n"
          ]
        }
      ]
    },
    {
      "cell_type": "code",
      "source": [
        "#@title PREPARATION DU FICHIER DE MANDAT TRANSCODE\n",
        "chaine_sortie = '\\n'.join([str(item) for item in converti])"
      ],
      "metadata": {
        "id": "wtXKckLPBBtP"
      },
      "execution_count": null,
      "outputs": []
    },
    {
      "cell_type": "code",
      "source": [
        "#@title TELECHARGEMENT DU FICHIER SUR LE PC\n",
        "with open(\"mandat_transcode.txt\", 'w') as f:\n",
        "  f.write(chaine_sortie)\n",
        "files.download('mandat_transcode.txt')"
      ],
      "metadata": {
        "id": "WOTvbSQhInv7",
        "colab": {
          "base_uri": "https://localhost:8080/",
          "height": 17
        },
        "outputId": "3b77ff93-53cc-4259-9fd4-32455cf8af76"
      },
      "execution_count": null,
      "outputs": [
        {
          "output_type": "display_data",
          "data": {
            "application/javascript": [
              "\n",
              "    async function download(id, filename, size) {\n",
              "      if (!google.colab.kernel.accessAllowed) {\n",
              "        return;\n",
              "      }\n",
              "      const div = document.createElement('div');\n",
              "      const label = document.createElement('label');\n",
              "      label.textContent = `Downloading \"${filename}\": `;\n",
              "      div.appendChild(label);\n",
              "      const progress = document.createElement('progress');\n",
              "      progress.max = size;\n",
              "      div.appendChild(progress);\n",
              "      document.body.appendChild(div);\n",
              "\n",
              "      const buffers = [];\n",
              "      let downloaded = 0;\n",
              "\n",
              "      const channel = await google.colab.kernel.comms.open(id);\n",
              "      // Send a message to notify the kernel that we're ready.\n",
              "      channel.send({})\n",
              "\n",
              "      for await (const message of channel.messages) {\n",
              "        // Send a message to notify the kernel that we're ready.\n",
              "        channel.send({})\n",
              "        if (message.buffers) {\n",
              "          for (const buffer of message.buffers) {\n",
              "            buffers.push(buffer);\n",
              "            downloaded += buffer.byteLength;\n",
              "            progress.value = downloaded;\n",
              "          }\n",
              "        }\n",
              "      }\n",
              "      const blob = new Blob(buffers, {type: 'application/binary'});\n",
              "      const a = document.createElement('a');\n",
              "      a.href = window.URL.createObjectURL(blob);\n",
              "      a.download = filename;\n",
              "      div.appendChild(a);\n",
              "      a.click();\n",
              "      div.remove();\n",
              "    }\n",
              "  "
            ],
            "text/plain": [
              "<IPython.core.display.Javascript object>"
            ]
          },
          "metadata": {}
        },
        {
          "output_type": "display_data",
          "data": {
            "application/javascript": [
              "download(\"download_12e74177-c13b-4ce0-b1a1-cff0be060ba7\", \"mandat_transcode.txt\", 3350343)"
            ],
            "text/plain": [
              "<IPython.core.display.Javascript object>"
            ]
          },
          "metadata": {}
        }
      ]
    },
    {
      "cell_type": "markdown",
      "source": [
        "\n",
        "# IMPORTANT\n",
        "***N.B : PENSEZ A RENOMMER LE FICHIER TELECHARGE \"mandat_transcode.txt\" EN \"mandat.txt\" AVANT DE LE DEPOSER SUR LE REPERTOIRE DU SERVEUR DES FINANCES***"
      ],
      "metadata": {
        "id": "Z4xcsxhlZkFa"
      }
    }
  ]
}