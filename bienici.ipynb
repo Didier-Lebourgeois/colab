{
 "cells": [
  {
   "cell_type": "code",
   "execution_count": 1,
   "id": "ae8d52f1-b8f3-4b70-b5df-87458a026c5f",
   "metadata": {},
   "outputs": [],
   "source": [
    "# You need to install the chrome driver in your $PATH\n",
    "from selenium import webdriver\n",
    "from selenium.webdriver.common.by import By\n",
    "import pandas as pd\n",
    "import time\n",
    "\n",
    "# The browser will be running headless with the following options\n",
    "options = webdriver.ChromeOptions()\n",
    "options.add_argument(\"--headless\")\n",
    "options.add_argument('--disable-dev-shm-usage')\n",
    "options.add_argument(\"--no-sandbox\")\n",
    "\n",
    "driver = webdriver.Chrome(\n",
    "    options=options\n",
    ")"
   ]
  },
  {
   "cell_type": "code",
   "execution_count": 2,
   "id": "96a0b4f2-b5dd-47f7-8f11-d03b5d7f4ee2",
   "metadata": {},
   "outputs": [],
   "source": [
    "# @ search url to customise\n",
    "to_scrap = \"https://www.bienici.com/recherche/achat/seine-maritime-76,eure-27/4-pieces-et-plus?prix-min=180000&prix-max=240000&chambres-min=3&surface-terrain-min=400&surface-terrain-max=1500&neuf=non&classification-energetique=A%2CB%2CC&jardin=oui\" # @param {type:\"string\"}"
   ]
  },
  {
   "cell_type": "code",
   "execution_count": 3,
   "id": "7831a11c-711c-4f80-9a16-7143b16bbbed",
   "metadata": {},
   "outputs": [],
   "source": [
    "driver.get(to_scrap)\n",
    "time.sleep(10)"
   ]
  },
  {
   "cell_type": "code",
   "execution_count": 4,
   "id": "021318bf-2020-4c90-a337-f05f505fc35b",
   "metadata": {},
   "outputs": [
    {
     "name": "stdout",
     "output_type": "stream",
     "text": [
      "24 annonces trouvées en première page\n"
     ]
    }
   ],
   "source": [
    "ads_links = driver.find_elements(By.XPATH,\n",
    "                                      '//*[@id=\"searchResults\"]'\\\n",
    "                                      +'/div/div[1]/article[*]'\\\n",
    "                                      +'/div/div/div/div[1]/div/div[2]/div/a')\n",
    "print(f\"{len(ads_links)} annonces trouvées en première page\")"
   ]
  },
  {
   "cell_type": "code",
   "execution_count": 5,
   "id": "0a3d29dc-09f8-4ce9-a7fe-a1647e065251",
   "metadata": {},
   "outputs": [],
   "source": [
    "ads_urls =[]\n",
    "# on essaye déjà de récupérer les url de la page 1\n",
    "for a in ads_links:\n",
    "    ads_urls.append(a.get_attribute('href'))"
   ]
  },
  {
   "cell_type": "code",
   "execution_count": 6,
   "id": "b3d889bf-f7f2-44af-8370-0a22388e6501",
   "metadata": {},
   "outputs": [],
   "source": [
    "# we are searching for the other result pages links\n",
    "other_pages = driver.find_elements(By.XPATH,'//*[@id=\"searchResultsContainer\"]'\\\n",
    "                                   +'/div[3]/div[2]/a')"
   ]
  },
  {
   "cell_type": "code",
   "execution_count": 7,
   "id": "7a401ad9-788d-40e2-94ae-86df360e1f15",
   "metadata": {},
   "outputs": [],
   "source": [
    "\"\"\"\n",
    "we store the other results pages urls\n",
    "in the other_links list\n",
    "\"\"\"\n",
    "other_links = []\n",
    "for o in other_pages:\n",
    "    other_links.append(o.get_attribute('href'))"
   ]
  },
  {
   "cell_type": "code",
   "execution_count": 8,
   "id": "6ab59f2f-3f38-4659-bcbb-425b0ac72df7",
   "metadata": {},
   "outputs": [
    {
     "data": {
      "text/plain": [
       "['https://www.bienici.com/recherche/achat/seine-maritime-76,eure-27/4-pieces-et-plus?prix-min=180000&prix-max=240000&chambres-min=3&surface-terrain-min=400&surface-terrain-max=1500&neuf=non&classification-energetique=A%2CB%2CC&jardin=oui&page=2&mode=galerie',\n",
       " 'https://www.bienici.com/recherche/achat/seine-maritime-76,eure-27/4-pieces-et-plus?prix-min=180000&prix-max=240000&chambres-min=3&surface-terrain-min=400&surface-terrain-max=1500&neuf=non&classification-energetique=A%2CB%2CC&jardin=oui&page=3&mode=galerie',\n",
       " 'https://www.bienici.com/recherche/achat/seine-maritime-76,eure-27/4-pieces-et-plus?prix-min=180000&prix-max=240000&chambres-min=3&surface-terrain-min=400&surface-terrain-max=1500&neuf=non&classification-energetique=A%2CB%2CC&jardin=oui&page=4&mode=galerie']"
      ]
     },
     "execution_count": 8,
     "metadata": {},
     "output_type": "execute_result"
    }
   ],
   "source": [
    "other_links"
   ]
  },
  {
   "cell_type": "code",
   "execution_count": 9,
   "id": "aaf6495c-41ba-4c7f-9809-b42fcc9aad5d",
   "metadata": {},
   "outputs": [
    {
     "name": "stdout",
     "output_type": "stream",
     "text": [
      "Traitement à venir de la page :\n",
      "https://www.bienici.com/recherche/achat/seine-maritime-76,eure-27/4-pieces-et-plus?prix-min=180000&prix-max=240000&chambres-min=3&surface-terrain-min=400&surface-terrain-max=1500&neuf=non&classification-energetique=A%2CB%2CC&jardin=oui&page=2&mode=galerie\n",
      "Traitement à venir de la page :\n",
      "https://www.bienici.com/recherche/achat/seine-maritime-76,eure-27/4-pieces-et-plus?prix-min=180000&prix-max=240000&chambres-min=3&surface-terrain-min=400&surface-terrain-max=1500&neuf=non&classification-energetique=A%2CB%2CC&jardin=oui&page=3&mode=galerie\n",
      "Traitement à venir de la page :\n",
      "https://www.bienici.com/recherche/achat/seine-maritime-76,eure-27/4-pieces-et-plus?prix-min=180000&prix-max=240000&chambres-min=3&surface-terrain-min=400&surface-terrain-max=1500&neuf=non&classification-energetique=A%2CB%2CC&jardin=oui&page=4&mode=galerie\n"
     ]
    }
   ],
   "source": [
    "for page in other_links:\n",
    "    print(f\"Traitement à venir de la page :\\n{page}\")\n",
    "    driver.get(page)\n",
    "    time.sleep(10)\n",
    "    ads_page = driver.find_elements(By.XPATH,\n",
    "                                      '//*[@id=\"searchResults\"]'\\\n",
    "                                      +'/div/div[1]/article[*]'\\\n",
    "                                      +'/div/div/div/div[1]/div/div[2]/div/a')\n",
    "    \"\"\"\n",
    "    On Récupère toutes les urls des annonces dans la liste\n",
    "    url_annonces\n",
    "    \"\"\"\n",
    "    for a in ads_page:\n",
    "        ads_urls.append(a.get_attribute('href'))\n"
   ]
  },
  {
   "cell_type": "code",
   "execution_count": 10,
   "id": "55f7ed83-d2b9-4d75-8b1b-d53818f7a9de",
   "metadata": {},
   "outputs": [
    {
     "name": "stdout",
     "output_type": "stream",
     "text": [
      "86 annonces trouvées\n"
     ]
    }
   ],
   "source": [
    "print(f\"{len(ads_urls)} annonces trouvées\")"
   ]
  },
  {
   "cell_type": "code",
   "execution_count": 11,
   "id": "9d846a71-ae8d-47e6-8bc6-2c7378a2e3f3",
   "metadata": {},
   "outputs": [
    {
     "name": "stdout",
     "output_type": "stream",
     "text": [
      "https://www.bienici.com/annonce/vente/beaumont-le-roger/maison/5pieces/hektor-immobilieredebeaumont-2021?q=%2Frecherche%2Fachat%2Fseine-maritime-76%2Ceure-27%2F4-pieces-et-plus%3Fprix-min%3D180000%26prix-max%3D240000%26chambres-min%3D3%26surface-terrain-min%3D400%26surface-terrain-max%3D1500%26neuf%3Dnon%26classification-energetique%3DA%252CB%252CC%26jardin%3Doui%26mode%3Dgalerie\n"
     ]
    }
   ],
   "source": [
    "type(ads_urls[0])\n",
    "print(ads_urls[0])"
   ]
  },
  {
   "cell_type": "code",
   "execution_count": 12,
   "id": "31c44875-e3a5-438a-85c6-306d4145f914",
   "metadata": {},
   "outputs": [],
   "source": [
    "driver.get(ads_urls[0])\n",
    "time.sleep(10)"
   ]
  },
  {
   "cell_type": "code",
   "execution_count": 13,
   "id": "0b489133-c777-41b2-a66c-8663607cd1da",
   "metadata": {},
   "outputs": [],
   "source": [
    "price = driver.find_element(By.CLASS_NAME, \"ad-price__the-price\").text"
   ]
  },
  {
   "cell_type": "code",
   "execution_count": 14,
   "id": "ac94d428-72c9-43f4-baf7-8364909c9c99",
   "metadata": {},
   "outputs": [
    {
     "name": "stdout",
     "output_type": "stream",
     "text": [
      "236 000 €\n"
     ]
    }
   ],
   "source": [
    "print(price)"
   ]
  },
  {
   "cell_type": "code",
   "execution_count": 15,
   "id": "b98093eb-c612-4b8d-a8f4-1f08c82e64ba",
   "metadata": {},
   "outputs": [],
   "source": [
    "town = driver.find_element(By.CLASS_NAME, 'fullAddress').text"
   ]
  },
  {
   "cell_type": "code",
   "execution_count": 16,
   "id": "df0589cc-ecc7-4b80-ac71-be2a79e42ee7",
   "metadata": {},
   "outputs": [],
   "source": [
    "description = driver.find_element(By.XPATH, '//*/div/div[3]/section[1]/h2').text"
   ]
  },
  {
   "cell_type": "code",
   "execution_count": 17,
   "id": "6c89b245-7026-4960-a324-ce183eb02733",
   "metadata": {},
   "outputs": [
    {
     "name": "stdout",
     "output_type": "stream",
     "text": [
      "DESCRIPTIF DE CETTE MAISON À VENDRE DE 5 PIÈCES ET 109 M²\n"
     ]
    }
   ],
   "source": [
    "print(description)"
   ]
  },
  {
   "cell_type": "code",
   "execution_count": 18,
   "id": "8dba773f-a61a-41fd-9a49-3f96e10fbdcb",
   "metadata": {},
   "outputs": [],
   "source": [
    "description_detail = driver.find_element(By.CLASS_NAME, 'see-more-description__content').text"
   ]
  },
  {
   "cell_type": "code",
   "execution_count": 19,
   "id": "a0947764-bc4f-420d-b07f-d5124c399449",
   "metadata": {},
   "outputs": [
    {
     "name": "stdout",
     "output_type": "stream",
     "text": [
      "Maison récente à vendre près de BEAUMONT LE ROGER 27170. L'agence Immobilière de Beaumont vous propose d'acheter EN EXCLUSIVITÉ sur l'axe BEAUMONT LE ROGER/EVREUX cette maison récente de plain-pied.\n",
      "Cette maison moderne de plain-pied de 110 m2 environ, construite en 2021, se compose d'une entrée avec rangements, d'une pièce de vie de 49 m2 environ avec un poêle à granulés et une cuisine américaine aménagée et équipée, d'un cellier/buanderie, de trois chambres dont une avec dressing, d'une salle d'eau, et de WC.\n",
      "Un primaire d'accrochage a été mis sur les murs de la salle d'eau pour installer de la faïence à l'emplacement d'une éventuelle baignoire, et sur le mur du salon pour mettre en place des pierres de parement. Le matériel est acheté et vous sera transmis.\n",
      "Cette maison construite sur vide-sanitaire est implantée sur un terrain clos de 1204 m2, avec un cabanon de jardin. Une terrasse d'environ 50 m2 exposée Sud vous permettra de profiter des belles journées ensoleillées.\n",
      "Vous souhaitez vous installer avec votre famille ? Le ramassage scolaire se trouve au bout de la rue.\n",
      "Cette maison neuve se situe à 5 minutes de BEAUMONT LE ROGER, bourg d'environ 3000 habitants avec commerces, écoles, médecins et gare SNCF.\n"
     ]
    }
   ],
   "source": [
    "print(description_detail)"
   ]
  },
  {
   "cell_type": "code",
   "execution_count": 20,
   "id": "a8cb2e73-44ad-4687-9d3c-49805d8abf10",
   "metadata": {},
   "outputs": [],
   "source": [
    "alldetails = driver.find_elements(By.XPATH, '//*/div/div[3]/section[3]/div[1]/div')"
   ]
  },
  {
   "cell_type": "code",
   "execution_count": 21,
   "id": "1df4a2e4-58da-4fcc-8ff4-5769e192249a",
   "metadata": {},
   "outputs": [
    {
     "data": {
      "text/plain": [
       "13"
      ]
     },
     "execution_count": 21,
     "metadata": {},
     "output_type": "execute_result"
    }
   ],
   "source": [
    "len(alldetails)"
   ]
  },
  {
   "cell_type": "code",
   "execution_count": 22,
   "id": "2bce0722-296d-49f6-ac01-c2006ab9da6c",
   "metadata": {},
   "outputs": [],
   "source": [
    "details = []\n",
    "for box in alldetails:\n",
    "    details.append(box.text)\n",
    "ads_detail = \"\\n\".join(details)"
   ]
  },
  {
   "cell_type": "code",
   "execution_count": 23,
   "id": "de446823-d591-438c-a4eb-fa4e2d96e2f8",
   "metadata": {},
   "outputs": [
    {
     "name": "stdout",
     "output_type": "stream",
     "text": [
      "Prix : 236 000 €, honoraires : 4,89% TTC inclus à la charge de l’acquéreur (225 000 € hors honoraires)\n",
      "\n",
      "Estimez votre mensualité\n",
      "109,45 m²\n",
      "1 204 m² de terrain\n",
      "5 pièces\n",
      "3 chambres\n",
      "Date de réalisation du DPE : 28 mars 2022\n",
      "Terrasse\n",
      "Jardin\n",
      "1 salle d’eau\n",
      "1 WC\n",
      "Construit en 2021\n"
     ]
    }
   ],
   "source": [
    "print(ads_detail)"
   ]
  },
  {
   "cell_type": "code",
   "execution_count": 24,
   "id": "a80a3632-af93-4dfd-a1d8-b5f30025c818",
   "metadata": {},
   "outputs": [],
   "source": [
    "dpe_energie = driver.find_element(By.XPATH, '//*/div/div[3]/section[4]/div[2]/div/div[1]/div[1]/div/div/div[2]/span/div').text"
   ]
  },
  {
   "cell_type": "code",
   "execution_count": 25,
   "id": "d289a3bc-0e97-4823-8998-1b828df59185",
   "metadata": {},
   "outputs": [
    {
     "data": {
      "text/plain": [
       "'B'"
      ]
     },
     "execution_count": 25,
     "metadata": {},
     "output_type": "execute_result"
    }
   ],
   "source": [
    "dpe_energie"
   ]
  },
  {
   "cell_type": "code",
   "execution_count": 26,
   "id": "c84cb8b4-7710-4382-b4b1-5263c5f0f687",
   "metadata": {},
   "outputs": [],
   "source": [
    "dpe_climat = driver.find_element(By.XPATH, '//*/div/div[3]/section[4]/div[2]/div/div[1]/div[2]/div/div[2]/div[1]/span').text"
   ]
  },
  {
   "cell_type": "code",
   "execution_count": 27,
   "id": "1998f57e-d14d-458d-aa64-8a57b7c83cf9",
   "metadata": {},
   "outputs": [
    {
     "data": {
      "text/plain": [
       "'A'"
      ]
     },
     "execution_count": 27,
     "metadata": {},
     "output_type": "execute_result"
    }
   ],
   "source": [
    "dpe_climat"
   ]
  },
  {
   "cell_type": "code",
   "execution_count": 28,
   "id": "2a22211a-5842-4363-b697-df69e45a5e99",
   "metadata": {},
   "outputs": [],
   "source": [
    "about_ad = driver.find_elements(By.XPATH,'//*/div/div[3]/section[6]/div')"
   ]
  },
  {
   "cell_type": "code",
   "execution_count": 29,
   "id": "bde943c1-eca9-4bdc-8428-46a0691d2d7a",
   "metadata": {},
   "outputs": [
    {
     "name": "stdout",
     "output_type": "stream",
     "text": [
      "À PROPOS DE CETTE ANNONCE\n",
      "Mandat en exclusivité\n",
      "Réf. de l’annonce : 210\n",
      "Publiée il y a plus de 2 mois\n",
      "Modifiée le 29 juil. 2023\n",
      "Barèmes de l’agence\n",
      "Signaler une anomalie sur cette annonce\n"
     ]
    }
   ],
   "source": [
    "comment_list = []\n",
    "for comment in about_ad:\n",
    "    comment_list.append(comment.text)\n",
    "comments = \"\\n\".join(comment_list)\n",
    "print(comments)"
   ]
  },
  {
   "cell_type": "code",
   "execution_count": 30,
   "id": "6bf8096c-33c6-4fa5-8666-0af678636fbf",
   "metadata": {},
   "outputs": [],
   "source": [
    "neighboorhood_desc = driver.find_element(By.CLASS_NAME,'neighborhoodDescription').text"
   ]
  },
  {
   "cell_type": "code",
   "execution_count": 31,
   "id": "c3bb995d-5558-4f82-a8e3-941e92d784e0",
   "metadata": {},
   "outputs": [
    {
     "data": {
      "text/plain": [
       "\"Beaumont-le-Roger est une commune située dans le département de l’Eure (27). Les 2 978 habitants de cette commune ont un âge moyen de 42 ans. La catégorie socio-professionnelle la plus représentée dans la commune est celle des employés et ouvriers. Les résidents peuvent profiter de très nombreux espaces verts et jardins. Côté immobilier, les habitations de la commune sont réparties en 75 % de maisons et 25 % d'appartements. La part de logements sociaux est ici de 20 %. La taxe d'habitation s'élève à 14 % et la taxe foncière à 16 % (en moyenne pour le département : taxe d'habitation à 21 %, taxe foncière à 20 %). Quant à la taxe d’enlèvement des ordures ménagères, elle est de 14 % .\""
      ]
     },
     "execution_count": 31,
     "metadata": {},
     "output_type": "execute_result"
    }
   ],
   "source": [
    "neighboorhood_desc"
   ]
  },
  {
   "cell_type": "code",
   "execution_count": 32,
   "id": "ff8f11cb-e6d7-449a-856c-dcf2d0094382",
   "metadata": {},
   "outputs": [],
   "source": [
    "ad_url_list =[]\n",
    "prices_list=[]\n",
    "towns_list=[]\n",
    "descriptions_list=[]\n",
    "descriptions_details_list =[]\n",
    "alldestails_list = []\n",
    "dpe_climat_list = []\n",
    "dpe_energy_list = []\n",
    "about_ad_list = []\n",
    "neighboorhood_desc_list = []\n",
    "compteur = 0"
   ]
  },
  {
   "cell_type": "code",
   "execution_count": 33,
   "id": "c7d60a76-0527-455c-afda-27edb856991b",
   "metadata": {},
   "outputs": [],
   "source": [
    "for ad in ads_urls:\n",
    "    compteur += 1\n",
    "    driver.get(ad)\n",
    "    time.sleep(10)\n",
    "    if compteur > 2:\n",
    "        break\n",
    "    ad_url_list.append(ad)\n",
    "    prices_list.append(driver.find_element(By.CLASS_NAME, \"ad-price__the-price\").text)\n",
    "    towns_list.append(driver.find_element(By.CLASS_NAME, 'fullAddress').text)\n",
    "    descriptions_list.append(driver.find_element(By.XPATH, '//*/div/div[3]/section[1]/h2').text)\n",
    "    descriptions_details_list.append(driver.find_element(By.CLASS_NAME, 'see-more-description__content').text)\n",
    "    alldetails = driver.find_elements(By.XPATH, '//*/div/div[3]/section[3]/div[1]/div')\n",
    "    details = []\n",
    "    for box in alldetails:\n",
    "        details.append(box.text)\n",
    "    ads_detail = \"\\n\".join(details)\n",
    "    alldestails_list.append(ads_detail)\n",
    "    dpe_climat_list.append(driver.find_element(By.XPATH, '//*/div/div[3]/section[4]/div[2]/div/div[1]/div[2]/div/div[2]/div[1]/span').text)\n",
    "    dpe_energy_list.append(driver.find_element(By.XPATH, '//*/div/div[3]/section[4]/div[2]/div/div[1]/div[1]/div/div/div[2]/span/div').text)\n",
    "    about_ad = driver.find_elements(By.XPATH,'//*/div/div[3]/section[6]/div')\n",
    "    comment_list = []\n",
    "    for comment in about_ad:\n",
    "        comment_list.append(comment.text)\n",
    "    comments = \"\\n\".join(comment_list)\n",
    "    about_ad_list.append(comments)\n",
    "    neighboorhood_desc_list.append(driver.find_element(By.CLASS_NAME,'neighborhoodDescription').text)\n",
    "  \n"
   ]
  },
  {
   "cell_type": "code",
   "execution_count": 34,
   "id": "5a18903d-6f38-4d57-8452-3ba27e90c941",
   "metadata": {},
   "outputs": [
    {
     "data": {
      "text/plain": [
       "['236 000 €', '239 000 €']"
      ]
     },
     "execution_count": 34,
     "metadata": {},
     "output_type": "execute_result"
    }
   ],
   "source": [
    "prices_list"
   ]
  },
  {
   "cell_type": "code",
   "execution_count": 35,
   "id": "8ba6e59d-15c5-4baa-8f0e-1c2b6861761f",
   "metadata": {},
   "outputs": [
    {
     "data": {
      "text/plain": [
       "['27170 Beaumont-le-Roger', '27930 La Chapelle-du-Bois-des-Faulx']"
      ]
     },
     "execution_count": 35,
     "metadata": {},
     "output_type": "execute_result"
    }
   ],
   "source": [
    "towns_list"
   ]
  },
  {
   "cell_type": "code",
   "execution_count": 36,
   "id": "0cafd785-066e-4536-96a0-819c45d83896",
   "metadata": {},
   "outputs": [
    {
     "data": {
      "text/plain": [
       "[\"Maison récente à vendre près de BEAUMONT LE ROGER 27170. L'agence Immobilière de Beaumont vous propose d'acheter EN EXCLUSIVITÉ sur l'axe BEAUMONT LE ROGER/EVREUX cette maison récente de plain-pied.\\nCette maison moderne de plain-pied de 110 m2 environ, construite en 2021, se compose d'une entrée avec rangements, d'une pièce de vie de 49 m2 environ avec un poêle à granulés et une cuisine américaine aménagée et équipée, d'un cellier/buanderie, de trois chambres dont une avec dressing, d'une salle d'eau, et de WC.\\nUn primaire d'accrochage a été mis sur les murs de la salle d'eau pour installer de la faïence à l'emplacement d'une éventuelle baignoire, et sur le mur du salon pour mettre en place des pierres de parement. Le matériel est acheté et vous sera transmis.\\nCette maison construite sur vide-sanitaire est implantée sur un terrain clos de 1204 m2, avec un cabanon de jardin. Une terrasse d'environ 50 m2 exposée Sud vous permettra de profiter des belles journées ensoleillées.\\nVous souhaitez vous installer avec votre famille ? Le ramassage scolaire se trouve au bout de la rue.\\nCette maison neuve se situe à 5 minutes de BEAUMONT LE ROGER, bourg d'environ 3000 habitants avec commerces, écoles, médecins et gare SNCF.\",\n",
       " \"LA CHAPELLE DU BOIS DES FAULX - Pavillon traditionnel 6 P d'env. 133m2 hab. sur sous-sol complet et parcelle close et arborée de 1250m2. Dans ce village à seulement 15 min d'Evreux dans un cadre verdoyant et boisé, venez découvrir cette maison familiale entièrement rénovée depuis 2018, beaux volumes et calme sont des atouts que vous saurez apprécier dès votre entrée dans les lieux ! Au Rez-de-chaussée une entrée donne sur le lumineux séjour traversant de presque 60m2 offrant une agréable pièce de vie avec cuisine dinatoire aménagée et équipée de marque Ixina de moins 5 ans, accès à une belle terrasse plein sud avec pergola. Deux chambres, une salle d'eau un WC séparé, accès au sous-sol aménagé avec coin buanderie, atelier et espace voiture avec chargeur électrique. A l'étage, vous trouvez un espace complet dédié aux enfants avec 3 chambres dont une de plus de 25m2 pouvant également faire office de salle de jeux, une salle d'eau, un WC séparé. Jardin sans vis-à-vis avec espace potager, Charreterie avec poste de recharge pour stationnement supplémentaire, abri de jardin. Aucun travaux à prévoir pour cette spacieuse maison à faible consommation d'énergie grâce à son poêle à granulés et son chauffage électrique en complément. Bien proposé par Julie SCHMIDT-KANINKA EI, agent commercial (RSAC 841049422)\"]"
      ]
     },
     "execution_count": 36,
     "metadata": {},
     "output_type": "execute_result"
    }
   ],
   "source": [
    "descriptions_details_list"
   ]
  },
  {
   "cell_type": "code",
   "execution_count": 37,
   "id": "ca70ea91-46b5-4366-bb3d-abea852a1493",
   "metadata": {},
   "outputs": [
    {
     "data": {
      "text/plain": [
       "['Prix\\u202f: 236 000 €, honoraires : 4,89% TTC inclus à la charge de l’acquéreur (225 000 € hors honoraires)\\n\\nEstimez votre mensualité\\n109,45 m²\\n1 204 m² de terrain\\n5 pièces\\n3 chambres\\nDate de réalisation du DPE : 28 mars 2022\\nTerrasse\\nJardin\\n1 salle d’eau\\n1 WC\\nConstruit en 2021',\n",
       " 'Prix\\u202f: 239 000 €, honoraires à la charge du vendeur\\n\\nEstimez votre mensualité\\n132 m²\\n1 250 m² de terrain\\n6 pièces\\n5 chambres\\nDate de réalisation du DPE : 22 mars 2023\\nJardin\\nChauffage : Electricité + poêle à granules\\n2 salles d’eau\\nWC séparés\\n2 WC\\nFibre : déployée*\\nConstruit en 1985']"
      ]
     },
     "execution_count": 37,
     "metadata": {},
     "output_type": "execute_result"
    }
   ],
   "source": [
    "alldestails_list"
   ]
  },
  {
   "cell_type": "code",
   "execution_count": 38,
   "id": "b11875c1-ae9c-4de3-8fcb-b9acb8c8af6e",
   "metadata": {},
   "outputs": [
    {
     "data": {
      "text/plain": [
       "['https://www.bienici.com/annonce/vente/beaumont-le-roger/maison/5pieces/hektor-immobilieredebeaumont-2021?q=%2Frecherche%2Fachat%2Fseine-maritime-76%2Ceure-27%2F4-pieces-et-plus%3Fprix-min%3D180000%26prix-max%3D240000%26chambres-min%3D3%26surface-terrain-min%3D400%26surface-terrain-max%3D1500%26neuf%3Dnon%26classification-energetique%3DA%252CB%252CC%26jardin%3Doui%26mode%3Dgalerie',\n",
       " 'https://www.bienici.com/annonce/vente/la-chapelle-du-bois-des-faulx/maison/6pieces/century-21-202_512_18587?q=%2Frecherche%2Fachat%2Fseine-maritime-76%2Ceure-27%2F4-pieces-et-plus%3Fprix-min%3D180000%26prix-max%3D240000%26chambres-min%3D3%26surface-terrain-min%3D400%26surface-terrain-max%3D1500%26neuf%3Dnon%26classification-energetique%3DA%252CB%252CC%26jardin%3Doui%26mode%3Dgalerie']"
      ]
     },
     "execution_count": 38,
     "metadata": {},
     "output_type": "execute_result"
    }
   ],
   "source": [
    "ad_url_list"
   ]
  },
  {
   "cell_type": "code",
   "execution_count": 39,
   "id": "a06f2f42-bccd-4e0e-b156-e105e42514b5",
   "metadata": {},
   "outputs": [
    {
     "data": {
      "text/plain": [
       "['https://www.bienici.com/annonce/vente/beaumont-le-roger/maison/5pieces/hektor-immobilieredebeaumont-2021?q=%2Frecherche%2Fachat%2Fseine-maritime-76%2Ceure-27%2F4-pieces-et-plus%3Fprix-min%3D180000%26prix-max%3D240000%26chambres-min%3D3%26surface-terrain-min%3D400%26surface-terrain-max%3D1500%26neuf%3Dnon%26classification-energetique%3DA%252CB%252CC%26jardin%3Doui%26mode%3Dgalerie',\n",
       " 'https://www.bienici.com/annonce/vente/la-chapelle-du-bois-des-faulx/maison/6pieces/century-21-202_512_18587?q=%2Frecherche%2Fachat%2Fseine-maritime-76%2Ceure-27%2F4-pieces-et-plus%3Fprix-min%3D180000%26prix-max%3D240000%26chambres-min%3D3%26surface-terrain-min%3D400%26surface-terrain-max%3D1500%26neuf%3Dnon%26classification-energetique%3DA%252CB%252CC%26jardin%3Doui%26mode%3Dgalerie',\n",
       " 'https://www.bienici.com/annonce/vente/menneval/maison/5pieces/immo-facile-4082711?q=%2Frecherche%2Fachat%2Fseine-maritime-76%2Ceure-27%2F4-pieces-et-plus%3Fprix-min%3D180000%26prix-max%3D240000%26chambres-min%3D3%26surface-terrain-min%3D400%26surface-terrain-max%3D1500%26neuf%3Dnon%26classification-energetique%3DA%252CB%252CC%26jardin%3Doui%26mode%3Dgalerie',\n",
       " 'https://www.bienici.com/annonce/vente/fontenay/maison/5pieces/iad-france-1412286?q=%2Frecherche%2Fachat%2Fseine-maritime-76%2Ceure-27%2F4-pieces-et-plus%3Fprix-min%3D180000%26prix-max%3D240000%26chambres-min%3D3%26surface-terrain-min%3D400%26surface-terrain-max%3D1500%26neuf%3Dnon%26classification-energetique%3DA%252CB%252CC%26jardin%3Doui%26mode%3Dgalerie',\n",
       " 'https://www.bienici.com/annonce/vente/cany-barville/maison/5pieces/adapt-immo-76009681?q=%2Frecherche%2Fachat%2Fseine-maritime-76%2Ceure-27%2F4-pieces-et-plus%3Fprix-min%3D180000%26prix-max%3D240000%26chambres-min%3D3%26surface-terrain-min%3D400%26surface-terrain-max%3D1500%26neuf%3Dnon%26classification-energetique%3DA%252CB%252CC%26jardin%3Doui%26mode%3Dgalerie',\n",
       " 'https://www.bienici.com/annonce/vente/tilleul-dame-agnes/maison/6pieces/laforet-immo-facile-21710756?q=%2Frecherche%2Fachat%2Fseine-maritime-76%2Ceure-27%2F4-pieces-et-plus%3Fprix-min%3D180000%26prix-max%3D240000%26chambres-min%3D3%26surface-terrain-min%3D400%26surface-terrain-max%3D1500%26neuf%3Dnon%26classification-energetique%3DA%252CB%252CC%26jardin%3Doui%26mode%3Dgalerie',\n",
       " 'https://www.bienici.com/annonce/vente/vernon/maison/4pieces/iad-france-1375632?q=%2Frecherche%2Fachat%2Fseine-maritime-76%2Ceure-27%2F4-pieces-et-plus%3Fprix-min%3D180000%26prix-max%3D240000%26chambres-min%3D3%26surface-terrain-min%3D400%26surface-terrain-max%3D1500%26neuf%3Dnon%26classification-energetique%3DA%252CB%252CC%26jardin%3Doui%26mode%3Dgalerie',\n",
       " 'https://www.bienici.com/annonce/vente/bezu-la-foret/maison/4pieces/iad-france-1379546?q=%2Frecherche%2Fachat%2Fseine-maritime-76%2Ceure-27%2F4-pieces-et-plus%3Fprix-min%3D180000%26prix-max%3D240000%26chambres-min%3D3%26surface-terrain-min%3D400%26surface-terrain-max%3D1500%26neuf%3Dnon%26classification-energetique%3DA%252CB%252CC%26jardin%3Doui%26mode%3Dgalerie',\n",
       " 'https://www.bienici.com/annonce/vente/cierrey/maison/4pieces/iad-france-1368052?q=%2Frecherche%2Fachat%2Fseine-maritime-76%2Ceure-27%2F4-pieces-et-plus%3Fprix-min%3D180000%26prix-max%3D240000%26chambres-min%3D3%26surface-terrain-min%3D400%26surface-terrain-max%3D1500%26neuf%3Dnon%26classification-energetique%3DA%252CB%252CC%26jardin%3Doui%26mode%3Dgalerie',\n",
       " 'https://www.bienici.com/annonce/vente/crestot/maison/5pieces/safti-1-888225?q=%2Frecherche%2Fachat%2Fseine-maritime-76%2Ceure-27%2F4-pieces-et-plus%3Fprix-min%3D180000%26prix-max%3D240000%26chambres-min%3D3%26surface-terrain-min%3D400%26surface-terrain-max%3D1500%26neuf%3Dnon%26classification-energetique%3DA%252CB%252CC%26jardin%3Doui%26mode%3Dgalerie',\n",
       " 'https://www.bienici.com/annonce/vente/pont-audemer/maison/4pieces/ag060811-392934638?q=%2Frecherche%2Fachat%2Fseine-maritime-76%2Ceure-27%2F4-pieces-et-plus%3Fprix-min%3D180000%26prix-max%3D240000%26chambres-min%3D3%26surface-terrain-min%3D400%26surface-terrain-max%3D1500%26neuf%3Dnon%26classification-energetique%3DA%252CB%252CC%26jardin%3Doui%26mode%3Dgalerie',\n",
       " 'https://www.bienici.com/annonce/vente/vernon/maison/5pieces/immo-facile-53511933?q=%2Frecherche%2Fachat%2Fseine-maritime-76%2Ceure-27%2F4-pieces-et-plus%3Fprix-min%3D180000%26prix-max%3D240000%26chambres-min%3D3%26surface-terrain-min%3D400%26surface-terrain-max%3D1500%26neuf%3Dnon%26classification-energetique%3DA%252CB%252CC%26jardin%3Doui%26mode%3Dgalerie',\n",
       " 'https://www.bienici.com/annonce/vente/tilly/maison/5pieces/immo-facile-53352616?q=%2Frecherche%2Fachat%2Fseine-maritime-76%2Ceure-27%2F4-pieces-et-plus%3Fprix-min%3D180000%26prix-max%3D240000%26chambres-min%3D3%26surface-terrain-min%3D400%26surface-terrain-max%3D1500%26neuf%3Dnon%26classification-energetique%3DA%252CB%252CC%26jardin%3Doui%26mode%3Dgalerie',\n",
       " 'https://www.bienici.com/annonce/vente/baillolet/maison/4pieces/hektor-421_troispourcent_admin-49208?q=%2Frecherche%2Fachat%2Fseine-maritime-76%2Ceure-27%2F4-pieces-et-plus%3Fprix-min%3D180000%26prix-max%3D240000%26chambres-min%3D3%26surface-terrain-min%3D400%26surface-terrain-max%3D1500%26neuf%3Dnon%26classification-energetique%3DA%252CB%252CC%26jardin%3Doui%26mode%3Dgalerie',\n",
       " 'https://www.bienici.com/annonce/vente/elbeuf-sur-andelle/maison/7pieces/iad-france-1366532?q=%2Frecherche%2Fachat%2Fseine-maritime-76%2Ceure-27%2F4-pieces-et-plus%3Fprix-min%3D180000%26prix-max%3D240000%26chambres-min%3D3%26surface-terrain-min%3D400%26surface-terrain-max%3D1500%26neuf%3Dnon%26classification-energetique%3DA%252CB%252CC%26jardin%3Doui%26mode%3Dgalerie',\n",
       " 'https://www.bienici.com/annonce/vente/verneuil-d-avre-et-d-iton/maison/7pieces/laforet-immo-facile-21627532?q=%2Frecherche%2Fachat%2Fseine-maritime-76%2Ceure-27%2F4-pieces-et-plus%3Fprix-min%3D180000%26prix-max%3D240000%26chambres-min%3D3%26surface-terrain-min%3D400%26surface-terrain-max%3D1500%26neuf%3Dnon%26classification-energetique%3DA%252CB%252CC%26jardin%3Doui%26mode%3Dgalerie',\n",
       " 'https://www.bienici.com/annonce/vente/ezy-sur-eure/maison/7pieces/century-21-202_3528_1088?q=%2Frecherche%2Fachat%2Fseine-maritime-76%2Ceure-27%2F4-pieces-et-plus%3Fprix-min%3D180000%26prix-max%3D240000%26chambres-min%3D3%26surface-terrain-min%3D400%26surface-terrain-max%3D1500%26neuf%3Dnon%26classification-energetique%3DA%252CB%252CC%26jardin%3Doui%26mode%3Dgalerie',\n",
       " 'https://www.bienici.com/annonce/vente/bernay/maison/4pieces/guy-hoquet-immo-facile-6056729?q=%2Frecherche%2Fachat%2Fseine-maritime-76%2Ceure-27%2F4-pieces-et-plus%3Fprix-min%3D180000%26prix-max%3D240000%26chambres-min%3D3%26surface-terrain-min%3D400%26surface-terrain-max%3D1500%26neuf%3Dnon%26classification-energetique%3DA%252CB%252CC%26jardin%3Doui%26mode%3Dgalerie',\n",
       " 'https://www.bienici.com/annonce/vente/reuilly/maison/4pieces/immo-facile-53435392?q=%2Frecherche%2Fachat%2Fseine-maritime-76%2Ceure-27%2F4-pieces-et-plus%3Fprix-min%3D180000%26prix-max%3D240000%26chambres-min%3D3%26surface-terrain-min%3D400%26surface-terrain-max%3D1500%26neuf%3Dnon%26classification-energetique%3DA%252CB%252CC%26jardin%3Doui%26mode%3Dgalerie',\n",
       " 'https://www.bienici.com/annonce/vente/grand-couronne/maison/6pieces/safti-1-976259?q=%2Frecherche%2Fachat%2Fseine-maritime-76%2Ceure-27%2F4-pieces-et-plus%3Fprix-min%3D180000%26prix-max%3D240000%26chambres-min%3D3%26surface-terrain-min%3D400%26surface-terrain-max%3D1500%26neuf%3Dnon%26classification-energetique%3DA%252CB%252CC%26jardin%3Doui%26mode%3Dgalerie',\n",
       " 'https://www.bienici.com/annonce/vente/ecquetot/maison/5pieces/immo-facile-53216739?q=%2Frecherche%2Fachat%2Fseine-maritime-76%2Ceure-27%2F4-pieces-et-plus%3Fprix-min%3D180000%26prix-max%3D240000%26chambres-min%3D3%26surface-terrain-min%3D400%26surface-terrain-max%3D1500%26neuf%3Dnon%26classification-energetique%3DA%252CB%252CC%26jardin%3Doui%26mode%3Dgalerie',\n",
       " 'https://www.bienici.com/annonce/vente/val-de-saane/maison/5pieces/hektor-1_2MDIEPPE2022-465?q=%2Frecherche%2Fachat%2Fseine-maritime-76%2Ceure-27%2F4-pieces-et-plus%3Fprix-min%3D180000%26prix-max%3D240000%26chambres-min%3D3%26surface-terrain-min%3D400%26surface-terrain-max%3D1500%26neuf%3Dnon%26classification-energetique%3DA%252CB%252CC%26jardin%3Doui%26mode%3Dgalerie',\n",
       " 'https://www.bienici.com/annonce/vente/notre-dame-de-bliquetuit/maison/4pieces/immo-facile-52800220?q=%2Frecherche%2Fachat%2Fseine-maritime-76%2Ceure-27%2F4-pieces-et-plus%3Fprix-min%3D180000%26prix-max%3D240000%26chambres-min%3D3%26surface-terrain-min%3D400%26surface-terrain-max%3D1500%26neuf%3Dnon%26classification-energetique%3DA%252CB%252CC%26jardin%3Doui%26mode%3Dgalerie',\n",
       " 'https://www.bienici.com/annonce/vente/reuilly/maison/4pieces/immo-facile-52358922?q=%2Frecherche%2Fachat%2Fseine-maritime-76%2Ceure-27%2F4-pieces-et-plus%3Fprix-min%3D180000%26prix-max%3D240000%26chambres-min%3D3%26surface-terrain-min%3D400%26surface-terrain-max%3D1500%26neuf%3Dnon%26classification-energetique%3DA%252CB%252CC%26jardin%3Doui%26mode%3Dgalerie',\n",
       " 'https://www.bienici.com/annonce/vente/bernay/maison/6pieces/immo-facile-3209141?q=%2Frecherche%2Fachat%2Fseine-maritime-76%2Ceure-27%2F4-pieces-et-plus%3Fprix-min%3D180000%26prix-max%3D240000%26chambres-min%3D3%26surface-terrain-min%3D400%26surface-terrain-max%3D1500%26neuf%3Dnon%26classification-energetique%3DA%252CB%252CC%26jardin%3Doui%26page%3D2%26mode%3Dgalerie',\n",
       " 'https://www.bienici.com/annonce/vente/pierrecourt/maison/8pieces/iad-france-1410282?q=%2Frecherche%2Fachat%2Fseine-maritime-76%2Ceure-27%2F4-pieces-et-plus%3Fprix-min%3D180000%26prix-max%3D240000%26chambres-min%3D3%26surface-terrain-min%3D400%26surface-terrain-max%3D1500%26neuf%3Dnon%26classification-energetique%3DA%252CB%252CC%26jardin%3Doui%26page%3D2%26mode%3Dgalerie',\n",
       " 'https://www.bienici.com/annonce/vente/la-ferriere-sur-risle/maison/5pieces/hektor-AGSTCLAIR2022-1456?q=%2Frecherche%2Fachat%2Fseine-maritime-76%2Ceure-27%2F4-pieces-et-plus%3Fprix-min%3D180000%26prix-max%3D240000%26chambres-min%3D3%26surface-terrain-min%3D400%26surface-terrain-max%3D1500%26neuf%3Dnon%26classification-energetique%3DA%252CB%252CC%26jardin%3Doui%26page%3D2%26mode%3Dgalerie',\n",
       " 'https://www.bienici.com/annonce/vente/le-mesnil-fuguet/maison/4pieces/hektor-205_groupegarnier-8116?q=%2Frecherche%2Fachat%2Fseine-maritime-76%2Ceure-27%2F4-pieces-et-plus%3Fprix-min%3D180000%26prix-max%3D240000%26chambres-min%3D3%26surface-terrain-min%3D400%26surface-terrain-max%3D1500%26neuf%3Dnon%26classification-energetique%3DA%252CB%252CC%26jardin%3Doui%26page%3D2%26mode%3Dgalerie',\n",
       " 'https://www.bienici.com/annonce/vente/butot-venesville/maison/5pieces/hektor-163_hektor-klicc-5983?q=%2Frecherche%2Fachat%2Fseine-maritime-76%2Ceure-27%2F4-pieces-et-plus%3Fprix-min%3D180000%26prix-max%3D240000%26chambres-min%3D3%26surface-terrain-min%3D400%26surface-terrain-max%3D1500%26neuf%3Dnon%26classification-energetique%3DA%252CB%252CC%26jardin%3Doui%26page%3D2%26mode%3Dgalerie',\n",
       " 'https://www.bienici.com/annonce/vente/les-loges/maison/4pieces/hektor-270_hektor-klicc-6017?q=%2Frecherche%2Fachat%2Fseine-maritime-76%2Ceure-27%2F4-pieces-et-plus%3Fprix-min%3D180000%26prix-max%3D240000%26chambres-min%3D3%26surface-terrain-min%3D400%26surface-terrain-max%3D1500%26neuf%3Dnon%26classification-energetique%3DA%252CB%252CC%26jardin%3Doui%26page%3D2%26mode%3Dgalerie',\n",
       " 'https://www.bienici.com/annonce/vente/grossoeuvre/maison/4pieces/immo-facile-4151027?q=%2Frecherche%2Fachat%2Fseine-maritime-76%2Ceure-27%2F4-pieces-et-plus%3Fprix-min%3D180000%26prix-max%3D240000%26chambres-min%3D3%26surface-terrain-min%3D400%26surface-terrain-max%3D1500%26neuf%3Dnon%26classification-energetique%3DA%252CB%252CC%26jardin%3Doui%26page%3D2%26mode%3Dgalerie',\n",
       " 'https://www.bienici.com/annonce/vente/ecaquelon/maison/6pieces/iad-france-1364378?q=%2Frecherche%2Fachat%2Fseine-maritime-76%2Ceure-27%2F4-pieces-et-plus%3Fprix-min%3D180000%26prix-max%3D240000%26chambres-min%3D3%26surface-terrain-min%3D400%26surface-terrain-max%3D1500%26neuf%3Dnon%26classification-energetique%3DA%252CB%252CC%26jardin%3Doui%26page%3D2%26mode%3Dgalerie',\n",
       " 'https://www.bienici.com/annonce/vente/les-andelys/maison/6pieces/immo-facile-52946363?q=%2Frecherche%2Fachat%2Fseine-maritime-76%2Ceure-27%2F4-pieces-et-plus%3Fprix-min%3D180000%26prix-max%3D240000%26chambres-min%3D3%26surface-terrain-min%3D400%26surface-terrain-max%3D1500%26neuf%3Dnon%26classification-energetique%3DA%252CB%252CC%26jardin%3Doui%26page%3D2%26mode%3Dgalerie',\n",
       " 'https://www.bienici.com/annonce/vente/penly/maison/5pieces/hektor-271_hektor-klicc-5866?q=%2Frecherche%2Fachat%2Fseine-maritime-76%2Ceure-27%2F4-pieces-et-plus%3Fprix-min%3D180000%26prix-max%3D240000%26chambres-min%3D3%26surface-terrain-min%3D400%26surface-terrain-max%3D1500%26neuf%3Dnon%26classification-energetique%3DA%252CB%252CC%26jardin%3Doui%26page%3D2%26mode%3Dgalerie',\n",
       " 'https://www.bienici.com/annonce/vente/montville/maison/6pieces/immo-facile-52486694?q=%2Frecherche%2Fachat%2Fseine-maritime-76%2Ceure-27%2F4-pieces-et-plus%3Fprix-min%3D180000%26prix-max%3D240000%26chambres-min%3D3%26surface-terrain-min%3D400%26surface-terrain-max%3D1500%26neuf%3Dnon%26classification-energetique%3DA%252CB%252CC%26jardin%3Doui%26page%3D2%26mode%3Dgalerie',\n",
       " 'https://www.bienici.com/annonce/vente/barc/maison/5pieces/hektor-immobilieredebeaumont-1850?q=%2Frecherche%2Fachat%2Fseine-maritime-76%2Ceure-27%2F4-pieces-et-plus%3Fprix-min%3D180000%26prix-max%3D240000%26chambres-min%3D3%26surface-terrain-min%3D400%26surface-terrain-max%3D1500%26neuf%3Dnon%26classification-energetique%3DA%252CB%252CC%26jardin%3Doui%26page%3D2%26mode%3Dgalerie',\n",
       " 'https://www.bienici.com/annonce/vente/garennes-sur-eure/maison/5pieces/century-21-202_3528_618?q=%2Frecherche%2Fachat%2Fseine-maritime-76%2Ceure-27%2F4-pieces-et-plus%3Fprix-min%3D180000%26prix-max%3D240000%26chambres-min%3D3%26surface-terrain-min%3D400%26surface-terrain-max%3D1500%26neuf%3Dnon%26classification-energetique%3DA%252CB%252CC%26jardin%3Doui%26page%3D2%26mode%3Dgalerie',\n",
       " 'https://www.bienici.com/annonce/vente/bernay/maison/5pieces/century-21-202_3166_4722?q=%2Frecherche%2Fachat%2Fseine-maritime-76%2Ceure-27%2F4-pieces-et-plus%3Fprix-min%3D180000%26prix-max%3D240000%26chambres-min%3D3%26surface-terrain-min%3D400%26surface-terrain-max%3D1500%26neuf%3Dnon%26classification-energetique%3DA%252CB%252CC%26jardin%3Doui%26page%3D2%26mode%3Dgalerie',\n",
       " 'https://www.bienici.com/annonce/vente/ezy-sur-eure/maison/5pieces/iad-france-1409621?q=%2Frecherche%2Fachat%2Fseine-maritime-76%2Ceure-27%2F4-pieces-et-plus%3Fprix-min%3D180000%26prix-max%3D240000%26chambres-min%3D3%26surface-terrain-min%3D400%26surface-terrain-max%3D1500%26neuf%3Dnon%26classification-energetique%3DA%252CB%252CC%26jardin%3Doui%26page%3D2%26mode%3Dgalerie',\n",
       " 'https://www.bienici.com/annonce/vente/gournay-en-bray/maison/5pieces/orpi-1-040938E2SK3R?q=%2Frecherche%2Fachat%2Fseine-maritime-76%2Ceure-27%2F4-pieces-et-plus%3Fprix-min%3D180000%26prix-max%3D240000%26chambres-min%3D3%26surface-terrain-min%3D400%26surface-terrain-max%3D1500%26neuf%3Dnon%26classification-energetique%3DA%252CB%252CC%26jardin%3Doui%26page%3D2%26mode%3Dgalerie',\n",
       " 'https://www.bienici.com/annonce/vente/les-andelys/maison/6pieces/netty-capronimmobillier-house-2538?q=%2Frecherche%2Fachat%2Fseine-maritime-76%2Ceure-27%2F4-pieces-et-plus%3Fprix-min%3D180000%26prix-max%3D240000%26chambres-min%3D3%26surface-terrain-min%3D400%26surface-terrain-max%3D1500%26neuf%3Dnon%26classification-energetique%3DA%252CB%252CC%26jardin%3Doui%26page%3D2%26mode%3Dgalerie',\n",
       " 'https://www.bienici.com/annonce/vente/etrepagny/maison/7pieces/safti-1-973727?q=%2Frecherche%2Fachat%2Fseine-maritime-76%2Ceure-27%2F4-pieces-et-plus%3Fprix-min%3D180000%26prix-max%3D240000%26chambres-min%3D3%26surface-terrain-min%3D400%26surface-terrain-max%3D1500%26neuf%3Dnon%26classification-energetique%3DA%252CB%252CC%26jardin%3Doui%26page%3D2%26mode%3Dgalerie',\n",
       " 'https://www.bienici.com/annonce/vente/eu/maison/6pieces/netty-amaryn-house-3488?q=%2Frecherche%2Fachat%2Fseine-maritime-76%2Ceure-27%2F4-pieces-et-plus%3Fprix-min%3D180000%26prix-max%3D240000%26chambres-min%3D3%26surface-terrain-min%3D400%26surface-terrain-max%3D1500%26neuf%3Dnon%26classification-energetique%3DA%252CB%252CC%26jardin%3Doui%26page%3D2%26mode%3Dgalerie',\n",
       " 'https://www.bienici.com/annonce/vente/le-mesnil-fuguet/maison/6pieces/iad-france-1407117?q=%2Frecherche%2Fachat%2Fseine-maritime-76%2Ceure-27%2F4-pieces-et-plus%3Fprix-min%3D180000%26prix-max%3D240000%26chambres-min%3D3%26surface-terrain-min%3D400%26surface-terrain-max%3D1500%26neuf%3Dnon%26classification-energetique%3DA%252CB%252CC%26jardin%3Doui%26page%3D2%26mode%3Dgalerie',\n",
       " 'https://www.bienici.com/annonce/vente/saint-didier-des-bois/maison/4pieces/iad-france-1399580?q=%2Frecherche%2Fachat%2Fseine-maritime-76%2Ceure-27%2F4-pieces-et-plus%3Fprix-min%3D180000%26prix-max%3D240000%26chambres-min%3D3%26surface-terrain-min%3D400%26surface-terrain-max%3D1500%26neuf%3Dnon%26classification-energetique%3DA%252CB%252CC%26jardin%3Doui%26page%3D2%26mode%3Dgalerie',\n",
       " 'https://www.bienici.com/annonce/vente/pont-audemer/maison/5pieces/century-21-202_3591_1290?q=%2Frecherche%2Fachat%2Fseine-maritime-76%2Ceure-27%2F4-pieces-et-plus%3Fprix-min%3D180000%26prix-max%3D240000%26chambres-min%3D3%26surface-terrain-min%3D400%26surface-terrain-max%3D1500%26neuf%3Dnon%26classification-energetique%3DA%252CB%252CC%26jardin%3Doui%26page%3D2%26mode%3Dgalerie',\n",
       " 'https://www.bienici.com/annonce/vente/les-loges/maison/5pieces/iad-france-1395713?q=%2Frecherche%2Fachat%2Fseine-maritime-76%2Ceure-27%2F4-pieces-et-plus%3Fprix-min%3D180000%26prix-max%3D240000%26chambres-min%3D3%26surface-terrain-min%3D400%26surface-terrain-max%3D1500%26neuf%3Dnon%26classification-energetique%3DA%252CB%252CC%26jardin%3Doui%26page%3D2%26mode%3Dgalerie',\n",
       " 'https://www.bienici.com/annonce/vente/berneval-le-grand/maison/4pieces/ag340369-389686442?q=%2Frecherche%2Fachat%2Fseine-maritime-76%2Ceure-27%2F4-pieces-et-plus%3Fprix-min%3D180000%26prix-max%3D240000%26chambres-min%3D3%26surface-terrain-min%3D400%26surface-terrain-max%3D1500%26neuf%3Dnon%26classification-energetique%3DA%252CB%252CC%26jardin%3Doui%26page%3D2%26mode%3Dgalerie',\n",
       " 'https://www.bienici.com/annonce/vente/le-grand-quevilly/maison/4pieces/safti-1-938847?q=%2Frecherche%2Fachat%2Fseine-maritime-76%2Ceure-27%2F4-pieces-et-plus%3Fprix-min%3D180000%26prix-max%3D240000%26chambres-min%3D3%26surface-terrain-min%3D400%26surface-terrain-max%3D1500%26neuf%3Dnon%26classification-energetique%3DA%252CB%252CC%26jardin%3Doui%26page%3D3%26mode%3Dgalerie',\n",
       " 'https://www.bienici.com/annonce/vente/daubeuf-pres-vatteville/maison/5pieces/iad-france-1382135?q=%2Frecherche%2Fachat%2Fseine-maritime-76%2Ceure-27%2F4-pieces-et-plus%3Fprix-min%3D180000%26prix-max%3D240000%26chambres-min%3D3%26surface-terrain-min%3D400%26surface-terrain-max%3D1500%26neuf%3Dnon%26classification-energetique%3DA%252CB%252CC%26jardin%3Doui%26page%3D3%26mode%3Dgalerie',\n",
       " 'https://www.bienici.com/annonce/vente/saint-andre-de-l-eure/maison/4pieces/iad-france-1376011?q=%2Frecherche%2Fachat%2Fseine-maritime-76%2Ceure-27%2F4-pieces-et-plus%3Fprix-min%3D180000%26prix-max%3D240000%26chambres-min%3D3%26surface-terrain-min%3D400%26surface-terrain-max%3D1500%26neuf%3Dnon%26classification-energetique%3DA%252CB%252CC%26jardin%3Doui%26page%3D3%26mode%3Dgalerie',\n",
       " 'https://www.bienici.com/annonce/vente/rugles/maison/6pieces/iad-france-1379664?q=%2Frecherche%2Fachat%2Fseine-maritime-76%2Ceure-27%2F4-pieces-et-plus%3Fprix-min%3D180000%26prix-max%3D240000%26chambres-min%3D3%26surface-terrain-min%3D400%26surface-terrain-max%3D1500%26neuf%3Dnon%26classification-energetique%3DA%252CB%252CC%26jardin%3Doui%26page%3D3%26mode%3Dgalerie',\n",
       " 'https://www.bienici.com/annonce/vente/beaumont-le-roger/maison/7pieces/iad-france-1368442?q=%2Frecherche%2Fachat%2Fseine-maritime-76%2Ceure-27%2F4-pieces-et-plus%3Fprix-min%3D180000%26prix-max%3D240000%26chambres-min%3D3%26surface-terrain-min%3D400%26surface-terrain-max%3D1500%26neuf%3Dnon%26classification-energetique%3DA%252CB%252CC%26jardin%3Doui%26page%3D3%26mode%3Dgalerie',\n",
       " 'https://www.bienici.com/annonce/vente/mesnil-raoul/maison/5pieces/ag060811-384723656?q=%2Frecherche%2Fachat%2Fseine-maritime-76%2Ceure-27%2F4-pieces-et-plus%3Fprix-min%3D180000%26prix-max%3D240000%26chambres-min%3D3%26surface-terrain-min%3D400%26surface-terrain-max%3D1500%26neuf%3Dnon%26classification-energetique%3DA%252CB%252CC%26jardin%3Doui%26page%3D3%26mode%3Dgalerie',\n",
       " 'https://www.bienici.com/annonce/vente/rugles/maison/6pieces/iad-france-1356709?q=%2Frecherche%2Fachat%2Fseine-maritime-76%2Ceure-27%2F4-pieces-et-plus%3Fprix-min%3D180000%26prix-max%3D240000%26chambres-min%3D3%26surface-terrain-min%3D400%26surface-terrain-max%3D1500%26neuf%3Dnon%26classification-energetique%3DA%252CB%252CC%26jardin%3Doui%26page%3D3%26mode%3Dgalerie',\n",
       " 'https://www.bienici.com/annonce/vente/saint-andre-de-l-eure/maison/4pieces/orpi-1-029053E2O2R8?q=%2Frecherche%2Fachat%2Fseine-maritime-76%2Ceure-27%2F4-pieces-et-plus%3Fprix-min%3D180000%26prix-max%3D240000%26chambres-min%3D3%26surface-terrain-min%3D400%26surface-terrain-max%3D1500%26neuf%3Dnon%26classification-energetique%3DA%252CB%252CC%26jardin%3Doui%26page%3D3%26mode%3Dgalerie',\n",
       " 'https://www.bienici.com/annonce/vente/bolbec/maison/4pieces/iad-france-1354259?q=%2Frecherche%2Fachat%2Fseine-maritime-76%2Ceure-27%2F4-pieces-et-plus%3Fprix-min%3D180000%26prix-max%3D240000%26chambres-min%3D3%26surface-terrain-min%3D400%26surface-terrain-max%3D1500%26neuf%3Dnon%26classification-energetique%3DA%252CB%252CC%26jardin%3Doui%26page%3D3%26mode%3Dgalerie',\n",
       " 'https://www.bienici.com/annonce/vente/conches-en-ouche/maison/6pieces/century-21-202_3166_4343?q=%2Frecherche%2Fachat%2Fseine-maritime-76%2Ceure-27%2F4-pieces-et-plus%3Fprix-min%3D180000%26prix-max%3D240000%26chambres-min%3D3%26surface-terrain-min%3D400%26surface-terrain-max%3D1500%26neuf%3Dnon%26classification-energetique%3DA%252CB%252CC%26jardin%3Doui%26page%3D3%26mode%3Dgalerie',\n",
       " 'https://www.bienici.com/annonce/vente/veules-les-roses/maison/5pieces/adapt-immo-76009584?q=%2Frecherche%2Fachat%2Fseine-maritime-76%2Ceure-27%2F4-pieces-et-plus%3Fprix-min%3D180000%26prix-max%3D240000%26chambres-min%3D3%26surface-terrain-min%3D400%26surface-terrain-max%3D1500%26neuf%3Dnon%26classification-energetique%3DA%252CB%252CC%26jardin%3Doui%26page%3D3%26mode%3Dgalerie',\n",
       " 'https://www.bienici.com/annonce/vente/cleres/maison/6pieces/immo-facile-39138025?q=%2Frecherche%2Fachat%2Fseine-maritime-76%2Ceure-27%2F4-pieces-et-plus%3Fprix-min%3D180000%26prix-max%3D240000%26chambres-min%3D3%26surface-terrain-min%3D400%26surface-terrain-max%3D1500%26neuf%3Dnon%26classification-energetique%3DA%252CB%252CC%26jardin%3Doui%26page%3D3%26mode%3Dgalerie',\n",
       " 'https://www.bienici.com/annonce/vente/beaumont-le-roger/maison/5pieces/ag750949-393108698?q=%2Frecherche%2Fachat%2Fseine-maritime-76%2Ceure-27%2F4-pieces-et-plus%3Fprix-min%3D180000%26prix-max%3D240000%26chambres-min%3D3%26surface-terrain-min%3D400%26surface-terrain-max%3D1500%26neuf%3Dnon%26classification-energetique%3DA%252CB%252CC%26jardin%3Doui%26page%3D3%26mode%3Dgalerie',\n",
       " 'https://www.bienici.com/annonce/vente/canouville/maison/4pieces/safti-1-984092?q=%2Frecherche%2Fachat%2Fseine-maritime-76%2Ceure-27%2F4-pieces-et-plus%3Fprix-min%3D180000%26prix-max%3D240000%26chambres-min%3D3%26surface-terrain-min%3D400%26surface-terrain-max%3D1500%26neuf%3Dnon%26classification-energetique%3DA%252CB%252CC%26jardin%3Doui%26page%3D3%26mode%3Dgalerie',\n",
       " 'https://www.bienici.com/annonce/vente/forges-les-eaux/maison/7pieces/safti-1-970310?q=%2Frecherche%2Fachat%2Fseine-maritime-76%2Ceure-27%2F4-pieces-et-plus%3Fprix-min%3D180000%26prix-max%3D240000%26chambres-min%3D3%26surface-terrain-min%3D400%26surface-terrain-max%3D1500%26neuf%3Dnon%26classification-energetique%3DA%252CB%252CC%26jardin%3Doui%26page%3D3%26mode%3Dgalerie',\n",
       " 'https://www.bienici.com/annonce/vente/bezu-saint-eloi/maison/5pieces/immo-facile-53291451?q=%2Frecherche%2Fachat%2Fseine-maritime-76%2Ceure-27%2F4-pieces-et-plus%3Fprix-min%3D180000%26prix-max%3D240000%26chambres-min%3D3%26surface-terrain-min%3D400%26surface-terrain-max%3D1500%26neuf%3Dnon%26classification-energetique%3DA%252CB%252CC%26jardin%3Doui%26page%3D3%26mode%3Dgalerie',\n",
       " 'https://www.bienici.com/annonce/vente/saint-philbert-sur-risle/maison/5pieces/megagence-1-131734?q=%2Frecherche%2Fachat%2Fseine-maritime-76%2Ceure-27%2F4-pieces-et-plus%3Fprix-min%3D180000%26prix-max%3D240000%26chambres-min%3D3%26surface-terrain-min%3D400%26surface-terrain-max%3D1500%26neuf%3Dnon%26classification-energetique%3DA%252CB%252CC%26jardin%3Doui%26page%3D3%26mode%3Dgalerie',\n",
       " 'https://www.bienici.com/annonce/vente/pont-authou/maison/5pieces/iad-france-1394480?q=%2Frecherche%2Fachat%2Fseine-maritime-76%2Ceure-27%2F4-pieces-et-plus%3Fprix-min%3D180000%26prix-max%3D240000%26chambres-min%3D3%26surface-terrain-min%3D400%26surface-terrain-max%3D1500%26neuf%3Dnon%26classification-energetique%3DA%252CB%252CC%26jardin%3Doui%26page%3D3%26mode%3Dgalerie',\n",
       " 'https://www.bienici.com/annonce/vente/buis-sur-damville/maison/6pieces/iad-france-1378792?q=%2Frecherche%2Fachat%2Fseine-maritime-76%2Ceure-27%2F4-pieces-et-plus%3Fprix-min%3D180000%26prix-max%3D240000%26chambres-min%3D3%26surface-terrain-min%3D400%26surface-terrain-max%3D1500%26neuf%3Dnon%26classification-energetique%3DA%252CB%252CC%26jardin%3Doui%26page%3D3%26mode%3Dgalerie',\n",
       " 'https://www.bienici.com/annonce/vente/les-monts-du-roumois/maison/6pieces/netty-jaujard-house-10236?q=%2Frecherche%2Fachat%2Fseine-maritime-76%2Ceure-27%2F4-pieces-et-plus%3Fprix-min%3D180000%26prix-max%3D240000%26chambres-min%3D3%26surface-terrain-min%3D400%26surface-terrain-max%3D1500%26neuf%3Dnon%26classification-energetique%3DA%252CB%252CC%26jardin%3Doui%26page%3D3%26mode%3Dgalerie',\n",
       " 'https://www.bienici.com/annonce/vente/mesnieres-en-bray/maison/6pieces/iad-france-1351992?q=%2Frecherche%2Fachat%2Fseine-maritime-76%2Ceure-27%2F4-pieces-et-plus%3Fprix-min%3D180000%26prix-max%3D240000%26chambres-min%3D3%26surface-terrain-min%3D400%26surface-terrain-max%3D1500%26neuf%3Dnon%26classification-energetique%3DA%252CB%252CC%26jardin%3Doui%26page%3D3%26mode%3Dgalerie',\n",
       " 'https://www.bienici.com/annonce/vente/envermeu/maison/5pieces/adapt-immo-75008129014?q=%2Frecherche%2Fachat%2Fseine-maritime-76%2Ceure-27%2F4-pieces-et-plus%3Fprix-min%3D180000%26prix-max%3D240000%26chambres-min%3D3%26surface-terrain-min%3D400%26surface-terrain-max%3D1500%26neuf%3Dnon%26classification-energetique%3DA%252CB%252CC%26jardin%3Doui%26page%3D3%26mode%3Dgalerie',\n",
       " 'https://www.bienici.com/annonce/vente/crosville-la-vieille/maison/4pieces/immo-facile-45554126?q=%2Frecherche%2Fachat%2Fseine-maritime-76%2Ceure-27%2F4-pieces-et-plus%3Fprix-min%3D180000%26prix-max%3D240000%26chambres-min%3D3%26surface-terrain-min%3D400%26surface-terrain-max%3D1500%26neuf%3Dnon%26classification-energetique%3DA%252CB%252CC%26jardin%3Doui%26page%3D3%26mode%3Dgalerie',\n",
       " 'https://www.bienici.com/annonce/vente/lyons-la-foret/maison/6pieces/hektor-armelimo-312?q=%2Frecherche%2Fachat%2Fseine-maritime-76%2Ceure-27%2F4-pieces-et-plus%3Fprix-min%3D180000%26prix-max%3D240000%26chambres-min%3D3%26surface-terrain-min%3D400%26surface-terrain-max%3D1500%26neuf%3Dnon%26classification-energetique%3DA%252CB%252CC%26jardin%3Doui%26page%3D3%26mode%3Dgalerie',\n",
       " 'https://www.bienici.com/annonce/vente/nonancourt/maison/4pieces/safti-1-920788?q=%2Frecherche%2Fachat%2Fseine-maritime-76%2Ceure-27%2F4-pieces-et-plus%3Fprix-min%3D180000%26prix-max%3D240000%26chambres-min%3D3%26surface-terrain-min%3D400%26surface-terrain-max%3D1500%26neuf%3Dnon%26classification-energetique%3DA%252CB%252CC%26jardin%3Doui%26page%3D4%26mode%3Dgalerie',\n",
       " 'https://www.bienici.com/annonce/vente/piseux/maison/6pieces/laforet-immo-facile-21596881?q=%2Frecherche%2Fachat%2Fseine-maritime-76%2Ceure-27%2F4-pieces-et-plus%3Fprix-min%3D180000%26prix-max%3D240000%26chambres-min%3D3%26surface-terrain-min%3D400%26surface-terrain-max%3D1500%26neuf%3Dnon%26classification-energetique%3DA%252CB%252CC%26jardin%3Doui%26page%3D4%26mode%3Dgalerie',\n",
       " 'https://www.bienici.com/annonce/vente/piseux/maison/6pieces/laforet-immo-facile-21607990?q=%2Frecherche%2Fachat%2Fseine-maritime-76%2Ceure-27%2F4-pieces-et-plus%3Fprix-min%3D180000%26prix-max%3D240000%26chambres-min%3D3%26surface-terrain-min%3D400%26surface-terrain-max%3D1500%26neuf%3Dnon%26classification-energetique%3DA%252CB%252CC%26jardin%3Doui%26page%3D4%26mode%3Dgalerie',\n",
       " 'https://www.bienici.com/annonce/vente/grossoeuvre/maison/5pieces/immo-facile-52707500?q=%2Frecherche%2Fachat%2Fseine-maritime-76%2Ceure-27%2F4-pieces-et-plus%3Fprix-min%3D180000%26prix-max%3D240000%26chambres-min%3D3%26surface-terrain-min%3D400%26surface-terrain-max%3D1500%26neuf%3Dnon%26classification-energetique%3DA%252CB%252CC%26jardin%3Doui%26page%3D4%26mode%3Dgalerie',\n",
       " 'https://www.bienici.com/annonce/vente/bacqueville/maison/6pieces/safti-1-765633?q=%2Frecherche%2Fachat%2Fseine-maritime-76%2Ceure-27%2F4-pieces-et-plus%3Fprix-min%3D180000%26prix-max%3D240000%26chambres-min%3D3%26surface-terrain-min%3D400%26surface-terrain-max%3D1500%26neuf%3Dnon%26classification-energetique%3DA%252CB%252CC%26jardin%3Doui%26page%3D4%26mode%3Dgalerie',\n",
       " 'https://www.bienici.com/annonce/vente/bacqueville/maison/6pieces/immo-facile-adresse-13095453?q=%2Frecherche%2Fachat%2Fseine-maritime-76%2Ceure-27%2F4-pieces-et-plus%3Fprix-min%3D180000%26prix-max%3D240000%26chambres-min%3D3%26surface-terrain-min%3D400%26surface-terrain-max%3D1500%26neuf%3Dnon%26classification-energetique%3DA%252CB%252CC%26jardin%3Doui%26page%3D4%26mode%3Dgalerie',\n",
       " 'https://www.bienici.com/annonce/vente/cormeilles/maison/4pieces/orpi-1-029038E2E3E3?q=%2Frecherche%2Fachat%2Fseine-maritime-76%2Ceure-27%2F4-pieces-et-plus%3Fprix-min%3D180000%26prix-max%3D240000%26chambres-min%3D3%26surface-terrain-min%3D400%26surface-terrain-max%3D1500%26neuf%3Dnon%26classification-energetique%3DA%252CB%252CC%26jardin%3Doui%26page%3D4%26mode%3Dgalerie',\n",
       " 'https://www.bienici.com/annonce/vente/breteuil/maison/9pieces/laforet-immo-facile-21075285?q=%2Frecherche%2Fachat%2Fseine-maritime-76%2Ceure-27%2F4-pieces-et-plus%3Fprix-min%3D180000%26prix-max%3D240000%26chambres-min%3D3%26surface-terrain-min%3D400%26surface-terrain-max%3D1500%26neuf%3Dnon%26classification-energetique%3DA%252CB%252CC%26jardin%3Doui%26page%3D4%26mode%3Dgalerie',\n",
       " 'https://www.bienici.com/annonce/vente/27750/maison/6pieces/immo-facile-4125781?q=%2Frecherche%2Fachat%2Fseine-maritime-76%2Ceure-27%2F4-pieces-et-plus%3Fprix-min%3D180000%26prix-max%3D240000%26chambres-min%3D3%26surface-terrain-min%3D400%26surface-terrain-max%3D1500%26neuf%3Dnon%26classification-energetique%3DA%252CB%252CC%26jardin%3Doui%26page%3D4%26mode%3Dgalerie',\n",
       " 'https://www.bienici.com/annonce/vente/piseux/maison/5pieces/square-habitat-immo-facile-42604763?q=%2Frecherche%2Fachat%2Fseine-maritime-76%2Ceure-27%2F4-pieces-et-plus%3Fprix-min%3D180000%26prix-max%3D240000%26chambres-min%3D3%26surface-terrain-min%3D400%26surface-terrain-max%3D1500%26neuf%3Dnon%26classification-energetique%3DA%252CB%252CC%26jardin%3Doui%26page%3D4%26mode%3Dgalerie',\n",
       " 'https://www.bienici.com/annonce/vente/totes/maison/5pieces/hektor-2_ajimmo-14457?q=%2Frecherche%2Fachat%2Fseine-maritime-76%2Ceure-27%2F4-pieces-et-plus%3Fprix-min%3D180000%26prix-max%3D240000%26chambres-min%3D3%26surface-terrain-min%3D400%26surface-terrain-max%3D1500%26neuf%3Dnon%26classification-energetique%3DA%252CB%252CC%26jardin%3Doui%26page%3D4%26mode%3Dgalerie',\n",
       " 'https://www.bienici.com/annonce/vente/bourneville-sainte-croix/maison/5pieces/laforet-immo-facile-21637422?q=%2Frecherche%2Fachat%2Fseine-maritime-76%2Ceure-27%2F4-pieces-et-plus%3Fprix-min%3D180000%26prix-max%3D240000%26chambres-min%3D3%26surface-terrain-min%3D400%26surface-terrain-max%3D1500%26neuf%3Dnon%26classification-energetique%3DA%252CB%252CC%26jardin%3Doui%26page%3D4%26mode%3Dgalerie',\n",
       " 'https://www.bienici.com/annonce/vente/27150/maison/7pieces/immo-facile-52538706?q=%2Frecherche%2Fachat%2Fseine-maritime-76%2Ceure-27%2F4-pieces-et-plus%3Fprix-min%3D180000%26prix-max%3D240000%26chambres-min%3D3%26surface-terrain-min%3D400%26surface-terrain-max%3D1500%26neuf%3Dnon%26classification-energetique%3DA%252CB%252CC%26jardin%3Doui%26page%3D4%26mode%3Dgalerie',\n",
       " 'https://www.bienici.com/annonce/vente/27150/maison/6pieces/immo-facile-52461812?q=%2Frecherche%2Fachat%2Fseine-maritime-76%2Ceure-27%2F4-pieces-et-plus%3Fprix-min%3D180000%26prix-max%3D240000%26chambres-min%3D3%26surface-terrain-min%3D400%26surface-terrain-max%3D1500%26neuf%3Dnon%26classification-energetique%3DA%252CB%252CC%26jardin%3Doui%26page%3D4%26mode%3Dgalerie']"
      ]
     },
     "execution_count": 39,
     "metadata": {},
     "output_type": "execute_result"
    }
   ],
   "source": [
    "ads_urls"
   ]
  },
  {
   "cell_type": "code",
   "execution_count": 41,
   "id": "54ee3811-4dfe-4504-9066-440d3cf064df",
   "metadata": {},
   "outputs": [],
   "source": [
    "df = pd.DataFrame(data = towns_list, columns = [\"Villes\"])"
   ]
  },
  {
   "cell_type": "code",
   "execution_count": 42,
   "id": "7778e062-b6aa-477d-bcfd-74ee029b3ed1",
   "metadata": {},
   "outputs": [
    {
     "data": {
      "text/html": [
       "<div>\n",
       "<style scoped>\n",
       "    .dataframe tbody tr th:only-of-type {\n",
       "        vertical-align: middle;\n",
       "    }\n",
       "\n",
       "    .dataframe tbody tr th {\n",
       "        vertical-align: top;\n",
       "    }\n",
       "\n",
       "    .dataframe thead th {\n",
       "        text-align: right;\n",
       "    }\n",
       "</style>\n",
       "<table border=\"1\" class=\"dataframe\">\n",
       "  <thead>\n",
       "    <tr style=\"text-align: right;\">\n",
       "      <th></th>\n",
       "      <th>Villes</th>\n",
       "    </tr>\n",
       "  </thead>\n",
       "  <tbody>\n",
       "    <tr>\n",
       "      <th>0</th>\n",
       "      <td>27170 Beaumont-le-Roger</td>\n",
       "    </tr>\n",
       "    <tr>\n",
       "      <th>1</th>\n",
       "      <td>27930 La Chapelle-du-Bois-des-Faulx</td>\n",
       "    </tr>\n",
       "  </tbody>\n",
       "</table>\n",
       "</div>"
      ],
      "text/plain": [
       "                                Villes\n",
       "0              27170 Beaumont-le-Roger\n",
       "1  27930 La Chapelle-du-Bois-des-Faulx"
      ]
     },
     "execution_count": 42,
     "metadata": {},
     "output_type": "execute_result"
    }
   ],
   "source": [
    "df"
   ]
  },
  {
   "cell_type": "code",
   "execution_count": null,
   "id": "c479ecb2-75e7-45c4-8597-f434ec5cc090",
   "metadata": {},
   "outputs": [],
   "source": []
  }
 ],
 "metadata": {
  "kernelspec": {
   "display_name": "Python 3 (ipykernel)",
   "language": "python",
   "name": "python3"
  },
  "language_info": {
   "codemirror_mode": {
    "name": "ipython",
    "version": 3
   },
   "file_extension": ".py",
   "mimetype": "text/x-python",
   "name": "python",
   "nbconvert_exporter": "python",
   "pygments_lexer": "ipython3",
   "version": "3.9.2"
  }
 },
 "nbformat": 4,
 "nbformat_minor": 5
}
