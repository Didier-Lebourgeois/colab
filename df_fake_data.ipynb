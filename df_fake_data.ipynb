{
  "nbformat": 4,
  "nbformat_minor": 0,
  "metadata": {
    "colab": {
      "name": "df_fake_data.ipynb",
      "provenance": [],
      "collapsed_sections": [],
      "include_colab_link": true
    },
    "kernelspec": {
      "name": "python3",
      "display_name": "Python 3"
    },
    "language_info": {
      "name": "python"
    }
  },
  "cells": [
    {
      "cell_type": "markdown",
      "metadata": {
        "id": "view-in-github",
        "colab_type": "text"
      },
      "source": [
        "<a href=\"https://colab.research.google.com/github/Didier-Lebourgeois/colab/blob/main/df_fake_data.ipynb\" target=\"_parent\"><img src=\"https://colab.research.google.com/assets/colab-badge.svg\" alt=\"Open In Colab\"/></a>"
      ]
    },
    {
      "cell_type": "markdown",
      "source": [
        "#Générer un dataframe constitué de données fake pour tester des algorythmes en préservant les données personnelles"
      ],
      "metadata": {
        "id": "5F1Hq6hw7KRy"
      }
    },
    {
      "cell_type": "code",
      "execution_count": 2,
      "metadata": {
        "colab": {
          "base_uri": "https://localhost:8080/"
        },
        "id": "B9VCqjX-F3xB",
        "outputId": "68b30a6e-2121-492a-bb8b-42517e811e95"
      },
      "outputs": [
        {
          "output_type": "stream",
          "name": "stdout",
          "text": [
            "Collecting Faker\n",
            "  Downloading Faker-13.0.0-py3-none-any.whl (1.5 MB)\n",
            "\u001b[?25l\r\u001b[K     |▏                               | 10 kB 33.7 MB/s eta 0:00:01\r\u001b[K     |▍                               | 20 kB 40.8 MB/s eta 0:00:01\r\u001b[K     |▋                               | 30 kB 43.0 MB/s eta 0:00:01\r\u001b[K     |▉                               | 40 kB 15.6 MB/s eta 0:00:01\r\u001b[K     |█                               | 51 kB 14.7 MB/s eta 0:00:01\r\u001b[K     |█▎                              | 61 kB 17.1 MB/s eta 0:00:01\r\u001b[K     |█▌                              | 71 kB 12.2 MB/s eta 0:00:01\r\u001b[K     |█▊                              | 81 kB 13.6 MB/s eta 0:00:01\r\u001b[K     |██                              | 92 kB 15.1 MB/s eta 0:00:01\r\u001b[K     |██▏                             | 102 kB 14.7 MB/s eta 0:00:01\r\u001b[K     |██▍                             | 112 kB 14.7 MB/s eta 0:00:01\r\u001b[K     |██▋                             | 122 kB 14.7 MB/s eta 0:00:01\r\u001b[K     |██▉                             | 133 kB 14.7 MB/s eta 0:00:01\r\u001b[K     |███                             | 143 kB 14.7 MB/s eta 0:00:01\r\u001b[K     |███▎                            | 153 kB 14.7 MB/s eta 0:00:01\r\u001b[K     |███▌                            | 163 kB 14.7 MB/s eta 0:00:01\r\u001b[K     |███▊                            | 174 kB 14.7 MB/s eta 0:00:01\r\u001b[K     |████                            | 184 kB 14.7 MB/s eta 0:00:01\r\u001b[K     |████▏                           | 194 kB 14.7 MB/s eta 0:00:01\r\u001b[K     |████▍                           | 204 kB 14.7 MB/s eta 0:00:01\r\u001b[K     |████▋                           | 215 kB 14.7 MB/s eta 0:00:01\r\u001b[K     |████▉                           | 225 kB 14.7 MB/s eta 0:00:01\r\u001b[K     |█████                           | 235 kB 14.7 MB/s eta 0:00:01\r\u001b[K     |█████▎                          | 245 kB 14.7 MB/s eta 0:00:01\r\u001b[K     |█████▌                          | 256 kB 14.7 MB/s eta 0:00:01\r\u001b[K     |█████▊                          | 266 kB 14.7 MB/s eta 0:00:01\r\u001b[K     |██████                          | 276 kB 14.7 MB/s eta 0:00:01\r\u001b[K     |██████▏                         | 286 kB 14.7 MB/s eta 0:00:01\r\u001b[K     |██████▍                         | 296 kB 14.7 MB/s eta 0:00:01\r\u001b[K     |██████▋                         | 307 kB 14.7 MB/s eta 0:00:01\r\u001b[K     |██████▉                         | 317 kB 14.7 MB/s eta 0:00:01\r\u001b[K     |███████                         | 327 kB 14.7 MB/s eta 0:00:01\r\u001b[K     |███████▎                        | 337 kB 14.7 MB/s eta 0:00:01\r\u001b[K     |███████▌                        | 348 kB 14.7 MB/s eta 0:00:01\r\u001b[K     |███████▊                        | 358 kB 14.7 MB/s eta 0:00:01\r\u001b[K     |████████                        | 368 kB 14.7 MB/s eta 0:00:01\r\u001b[K     |████████▏                       | 378 kB 14.7 MB/s eta 0:00:01\r\u001b[K     |████████▍                       | 389 kB 14.7 MB/s eta 0:00:01\r\u001b[K     |████████▋                       | 399 kB 14.7 MB/s eta 0:00:01\r\u001b[K     |████████▉                       | 409 kB 14.7 MB/s eta 0:00:01\r\u001b[K     |█████████                       | 419 kB 14.7 MB/s eta 0:00:01\r\u001b[K     |█████████▎                      | 430 kB 14.7 MB/s eta 0:00:01\r\u001b[K     |█████████▌                      | 440 kB 14.7 MB/s eta 0:00:01\r\u001b[K     |█████████▊                      | 450 kB 14.7 MB/s eta 0:00:01\r\u001b[K     |██████████                      | 460 kB 14.7 MB/s eta 0:00:01\r\u001b[K     |██████████▏                     | 471 kB 14.7 MB/s eta 0:00:01\r\u001b[K     |██████████▍                     | 481 kB 14.7 MB/s eta 0:00:01\r\u001b[K     |██████████▋                     | 491 kB 14.7 MB/s eta 0:00:01\r\u001b[K     |██████████▉                     | 501 kB 14.7 MB/s eta 0:00:01\r\u001b[K     |███████████                     | 512 kB 14.7 MB/s eta 0:00:01\r\u001b[K     |███████████▎                    | 522 kB 14.7 MB/s eta 0:00:01\r\u001b[K     |███████████▌                    | 532 kB 14.7 MB/s eta 0:00:01\r\u001b[K     |███████████▊                    | 542 kB 14.7 MB/s eta 0:00:01\r\u001b[K     |████████████                    | 552 kB 14.7 MB/s eta 0:00:01\r\u001b[K     |████████████▏                   | 563 kB 14.7 MB/s eta 0:00:01\r\u001b[K     |████████████▍                   | 573 kB 14.7 MB/s eta 0:00:01\r\u001b[K     |████████████▋                   | 583 kB 14.7 MB/s eta 0:00:01\r\u001b[K     |████████████▉                   | 593 kB 14.7 MB/s eta 0:00:01\r\u001b[K     |█████████████                   | 604 kB 14.7 MB/s eta 0:00:01\r\u001b[K     |█████████████▎                  | 614 kB 14.7 MB/s eta 0:00:01\r\u001b[K     |█████████████▌                  | 624 kB 14.7 MB/s eta 0:00:01\r\u001b[K     |█████████████▊                  | 634 kB 14.7 MB/s eta 0:00:01\r\u001b[K     |██████████████                  | 645 kB 14.7 MB/s eta 0:00:01\r\u001b[K     |██████████████▏                 | 655 kB 14.7 MB/s eta 0:00:01\r\u001b[K     |██████████████▍                 | 665 kB 14.7 MB/s eta 0:00:01\r\u001b[K     |██████████████▋                 | 675 kB 14.7 MB/s eta 0:00:01\r\u001b[K     |██████████████▉                 | 686 kB 14.7 MB/s eta 0:00:01\r\u001b[K     |███████████████                 | 696 kB 14.7 MB/s eta 0:00:01\r\u001b[K     |███████████████▎                | 706 kB 14.7 MB/s eta 0:00:01\r\u001b[K     |███████████████▍                | 716 kB 14.7 MB/s eta 0:00:01\r\u001b[K     |███████████████▋                | 727 kB 14.7 MB/s eta 0:00:01\r\u001b[K     |███████████████▉                | 737 kB 14.7 MB/s eta 0:00:01\r\u001b[K     |████████████████                | 747 kB 14.7 MB/s eta 0:00:01\r\u001b[K     |████████████████▎               | 757 kB 14.7 MB/s eta 0:00:01\r\u001b[K     |████████████████▌               | 768 kB 14.7 MB/s eta 0:00:01\r\u001b[K     |████████████████▊               | 778 kB 14.7 MB/s eta 0:00:01\r\u001b[K     |█████████████████               | 788 kB 14.7 MB/s eta 0:00:01\r\u001b[K     |█████████████████▏              | 798 kB 14.7 MB/s eta 0:00:01\r\u001b[K     |█████████████████▍              | 808 kB 14.7 MB/s eta 0:00:01\r\u001b[K     |█████████████████▋              | 819 kB 14.7 MB/s eta 0:00:01\r\u001b[K     |█████████████████▉              | 829 kB 14.7 MB/s eta 0:00:01\r\u001b[K     |██████████████████              | 839 kB 14.7 MB/s eta 0:00:01\r\u001b[K     |██████████████████▎             | 849 kB 14.7 MB/s eta 0:00:01\r\u001b[K     |██████████████████▌             | 860 kB 14.7 MB/s eta 0:00:01\r\u001b[K     |██████████████████▊             | 870 kB 14.7 MB/s eta 0:00:01\r\u001b[K     |███████████████████             | 880 kB 14.7 MB/s eta 0:00:01\r\u001b[K     |███████████████████▏            | 890 kB 14.7 MB/s eta 0:00:01\r\u001b[K     |███████████████████▍            | 901 kB 14.7 MB/s eta 0:00:01\r\u001b[K     |███████████████████▋            | 911 kB 14.7 MB/s eta 0:00:01\r\u001b[K     |███████████████████▉            | 921 kB 14.7 MB/s eta 0:00:01\r\u001b[K     |████████████████████            | 931 kB 14.7 MB/s eta 0:00:01\r\u001b[K     |████████████████████▎           | 942 kB 14.7 MB/s eta 0:00:01\r\u001b[K     |████████████████████▌           | 952 kB 14.7 MB/s eta 0:00:01\r\u001b[K     |████████████████████▊           | 962 kB 14.7 MB/s eta 0:00:01\r\u001b[K     |█████████████████████           | 972 kB 14.7 MB/s eta 0:00:01\r\u001b[K     |█████████████████████▏          | 983 kB 14.7 MB/s eta 0:00:01\r\u001b[K     |█████████████████████▍          | 993 kB 14.7 MB/s eta 0:00:01\r\u001b[K     |█████████████████████▋          | 1.0 MB 14.7 MB/s eta 0:00:01\r\u001b[K     |█████████████████████▉          | 1.0 MB 14.7 MB/s eta 0:00:01\r\u001b[K     |██████████████████████          | 1.0 MB 14.7 MB/s eta 0:00:01\r\u001b[K     |██████████████████████▎         | 1.0 MB 14.7 MB/s eta 0:00:01\r\u001b[K     |██████████████████████▌         | 1.0 MB 14.7 MB/s eta 0:00:01\r\u001b[K     |██████████████████████▊         | 1.1 MB 14.7 MB/s eta 0:00:01\r\u001b[K     |███████████████████████         | 1.1 MB 14.7 MB/s eta 0:00:01\r\u001b[K     |███████████████████████▏        | 1.1 MB 14.7 MB/s eta 0:00:01\r\u001b[K     |███████████████████████▍        | 1.1 MB 14.7 MB/s eta 0:00:01\r\u001b[K     |███████████████████████▋        | 1.1 MB 14.7 MB/s eta 0:00:01\r\u001b[K     |███████████████████████▉        | 1.1 MB 14.7 MB/s eta 0:00:01\r\u001b[K     |████████████████████████        | 1.1 MB 14.7 MB/s eta 0:00:01\r\u001b[K     |████████████████████████▎       | 1.1 MB 14.7 MB/s eta 0:00:01\r\u001b[K     |████████████████████████▌       | 1.1 MB 14.7 MB/s eta 0:00:01\r\u001b[K     |████████████████████████▊       | 1.1 MB 14.7 MB/s eta 0:00:01\r\u001b[K     |█████████████████████████       | 1.2 MB 14.7 MB/s eta 0:00:01\r\u001b[K     |█████████████████████████▏      | 1.2 MB 14.7 MB/s eta 0:00:01\r\u001b[K     |█████████████████████████▍      | 1.2 MB 14.7 MB/s eta 0:00:01\r\u001b[K     |█████████████████████████▋      | 1.2 MB 14.7 MB/s eta 0:00:01\r\u001b[K     |█████████████████████████▉      | 1.2 MB 14.7 MB/s eta 0:00:01\r\u001b[K     |██████████████████████████      | 1.2 MB 14.7 MB/s eta 0:00:01\r\u001b[K     |██████████████████████████▎     | 1.2 MB 14.7 MB/s eta 0:00:01\r\u001b[K     |██████████████████████████▌     | 1.2 MB 14.7 MB/s eta 0:00:01\r\u001b[K     |██████████████████████████▊     | 1.2 MB 14.7 MB/s eta 0:00:01\r\u001b[K     |███████████████████████████     | 1.2 MB 14.7 MB/s eta 0:00:01\r\u001b[K     |███████████████████████████▏    | 1.3 MB 14.7 MB/s eta 0:00:01\r\u001b[K     |███████████████████████████▍    | 1.3 MB 14.7 MB/s eta 0:00:01\r\u001b[K     |███████████████████████████▋    | 1.3 MB 14.7 MB/s eta 0:00:01\r\u001b[K     |███████████████████████████▉    | 1.3 MB 14.7 MB/s eta 0:00:01\r\u001b[K     |████████████████████████████    | 1.3 MB 14.7 MB/s eta 0:00:01\r\u001b[K     |████████████████████████████▎   | 1.3 MB 14.7 MB/s eta 0:00:01\r\u001b[K     |████████████████████████████▌   | 1.3 MB 14.7 MB/s eta 0:00:01\r\u001b[K     |████████████████████████████▊   | 1.3 MB 14.7 MB/s eta 0:00:01\r\u001b[K     |█████████████████████████████   | 1.3 MB 14.7 MB/s eta 0:00:01\r\u001b[K     |█████████████████████████████▏  | 1.4 MB 14.7 MB/s eta 0:00:01\r\u001b[K     |█████████████████████████████▍  | 1.4 MB 14.7 MB/s eta 0:00:01\r\u001b[K     |█████████████████████████████▋  | 1.4 MB 14.7 MB/s eta 0:00:01\r\u001b[K     |█████████████████████████████▉  | 1.4 MB 14.7 MB/s eta 0:00:01\r\u001b[K     |██████████████████████████████  | 1.4 MB 14.7 MB/s eta 0:00:01\r\u001b[K     |██████████████████████████████▎ | 1.4 MB 14.7 MB/s eta 0:00:01\r\u001b[K     |██████████████████████████████▌ | 1.4 MB 14.7 MB/s eta 0:00:01\r\u001b[K     |██████████████████████████████▋ | 1.4 MB 14.7 MB/s eta 0:00:01\r\u001b[K     |██████████████████████████████▉ | 1.4 MB 14.7 MB/s eta 0:00:01\r\u001b[K     |███████████████████████████████ | 1.4 MB 14.7 MB/s eta 0:00:01\r\u001b[K     |███████████████████████████████▎| 1.5 MB 14.7 MB/s eta 0:00:01\r\u001b[K     |███████████████████████████████▌| 1.5 MB 14.7 MB/s eta 0:00:01\r\u001b[K     |███████████████████████████████▊| 1.5 MB 14.7 MB/s eta 0:00:01\r\u001b[K     |████████████████████████████████| 1.5 MB 14.7 MB/s eta 0:00:01\r\u001b[K     |████████████████████████████████| 1.5 MB 14.7 MB/s \n",
            "\u001b[?25hRequirement already satisfied: typing-extensions>=3.10.0.2 in /usr/local/lib/python3.7/dist-packages (from Faker) (3.10.0.2)\n",
            "Requirement already satisfied: python-dateutil>=2.4 in /usr/local/lib/python3.7/dist-packages (from Faker) (2.8.2)\n",
            "Requirement already satisfied: six>=1.5 in /usr/local/lib/python3.7/dist-packages (from python-dateutil>=2.4->Faker) (1.15.0)\n",
            "Installing collected packages: Faker\n",
            "Successfully installed Faker-13.0.0\n"
          ]
        }
      ],
      "source": [
        "!pip install Faker\n",
        "from faker import Faker\n",
        "import pandas as pd\n",
        "import random"
      ]
    },
    {
      "cell_type": "code",
      "source": [
        "import unicodedata"
      ],
      "metadata": {
        "id": "Gnrimogs0j9W"
      },
      "execution_count": 3,
      "outputs": []
    },
    {
      "cell_type": "code",
      "source": [
        "def remove_accents(input_str):\n",
        "  \"\"\"une fonction pour supprimer les accents\"\"\"\n",
        "  nfkd_form = unicodedata.normalize('NFKD', input_str)\n",
        "  return u\"\".join([c for c in nfkd_form if not unicodedata.combining(c)])"
      ],
      "metadata": {
        "id": "rah4zYxS041_"
      },
      "execution_count": 4,
      "outputs": []
    },
    {
      "cell_type": "code",
      "source": [
        "fake = Faker(['fr_FR'])"
      ],
      "metadata": {
        "id": "UqRrDhMeF_if"
      },
      "execution_count": 5,
      "outputs": []
    },
    {
      "cell_type": "code",
      "source": [
        "my_list = []\n",
        "for x in range(100):\n",
        "  my_list.append([remove_accents((fake.first_name()).upper()), \n",
        "                  remove_accents((fake.last_name()).upper()), \n",
        "                  remove_accents(((fake.street_address()).upper()).replace(',','')),\n",
        "                  random.randint(0,10000)])"
      ],
      "metadata": {
        "id": "_RtK_KxCGQoT"
      },
      "execution_count": 6,
      "outputs": []
    },
    {
      "cell_type": "markdown",
      "source": [
        "Test de la fonction de suppression d'accents"
      ],
      "metadata": {
        "id": "AwROMRQJfg1e"
      }
    },
    {
      "cell_type": "code",
      "source": [
        "remove_accents(fake.city()).upper()"
      ],
      "metadata": {
        "colab": {
          "base_uri": "https://localhost:8080/",
          "height": 35
        },
        "id": "WpNXQA2Jjd89",
        "outputId": "47f0a36f-511b-4f54-b7c3-d5b4e4853d7c"
      },
      "execution_count": 7,
      "outputs": [
        {
          "output_type": "execute_result",
          "data": {
            "application/vnd.google.colaboratory.intrinsic+json": {
              "type": "string"
            },
            "text/plain": [
              "'TEXIER'"
            ]
          },
          "metadata": {},
          "execution_count": 7
        }
      ]
    },
    {
      "cell_type": "code",
      "source": [
        "my_list"
      ],
      "metadata": {
        "colab": {
          "base_uri": "https://localhost:8080/"
        },
        "id": "OWjfd12FPPcg",
        "outputId": "442845d0-1935-4321-cc7a-fb5a365711b1"
      },
      "execution_count": 8,
      "outputs": [
        {
          "output_type": "execute_result",
          "data": {
            "text/plain": [
              "[['ANTOINETTE', 'LEMAIRE', '337 RUE ADELE GIRAUD', 6361],\n",
              " ['JULIETTE', 'GREGOIRE', '787 RUE DE PELTIER', 5012],\n",
              " ['EDITH', 'LOMBARD', '398 AVENUE KLEIN', 5263],\n",
              " ['ARNAUDE', 'MAURY', '902 CHEMIN DE PASQUIER', 8728],\n",
              " ['ALEX', 'NORMAND', '65 AVENUE BRETON', 2557],\n",
              " ['LAURE', 'FOUQUET', 'CHEMIN LEVY', 2257],\n",
              " ['ARNAUDE', 'PETITJEAN', '74 AVENUE LAURENT', 8914],\n",
              " ['ETIENNE', 'LUCAS', '31 RUE DE BARON', 3489],\n",
              " ['JEANNE', 'BRUN', '6 RUE CAPUCINE VIDAL', 9311],\n",
              " ['LUCIE', 'LEGRAND', '15 CHEMIN DE POTIER', 6316],\n",
              " ['ANTOINE', 'RAYNAUD', '34 RUE MAURICE LAROCHE', 9190],\n",
              " ['MARTHE', 'FOUQUET', 'AVENUE ADELE DESCAMPS', 2075],\n",
              " ['MADELEINE', 'ALVES', 'AVENUE LAURE GAY', 3449],\n",
              " ['EMILE', 'PICARD', '97 RUE CLEMENT', 1125],\n",
              " ['NATH', 'BOYER', '2 CHEMIN ADELAIDE BIGOT', 2949],\n",
              " ['MONIQUE', 'ROCHE', '11 BOULEVARD FRANCOIS BUISSON', 8384],\n",
              " ['MARTINE', 'JACQUET', '93 CHEMIN DE BARBE', 9837],\n",
              " ['GERARD', 'BONNIN', 'CHEMIN DE PRUVOST', 9466],\n",
              " ['ADRIENNE', 'PRUVOST', '52 RUE PELTIER', 8022],\n",
              " ['INES', 'MAURICE', '1 RUE POTTIER', 2859],\n",
              " ['FREDERIC', 'BESNARD', '6 RUE CHRISTIANE FLEURY', 2959],\n",
              " ['AUGUSTIN', 'RIOU', '862 BOULEVARD DE RAYMOND', 9522],\n",
              " ['MARGAUX', 'PINEAU', '588 CHEMIN DUPUY', 4403],\n",
              " ['NICOLAS', 'BRUN', '37 AVENUE DE DUPUIS', 9906],\n",
              " ['OCEANE', 'ROBIN', '756 RUE MARIN', 5751],\n",
              " ['CHANTAL', 'MERCIER', '4 RUE DE VALLEE', 7881],\n",
              " ['SIMONE', 'PICARD', 'RUE ADELE LEDUC', 3856],\n",
              " ['CELINE', 'VALENTIN', '73 RUE DE SCHNEIDER', 7837],\n",
              " ['SABINE', 'MARTEL', 'BOULEVARD LELEU', 4986],\n",
              " ['BERNARD', 'MAILLET', '50 RUE NOEL ALVES', 6245],\n",
              " ['MARGOT', 'MUNOZ', '422 RUE DE THOMAS', 3402],\n",
              " ['ALEX', 'DELAHAYE', '40 BOULEVARD COLLET', 4436],\n",
              " ['TIMOTHEE', 'VOISIN', '981 CHEMIN DE BERNIER', 8345],\n",
              " ['NOEL', 'COULON', '49 CHEMIN LACROIX', 882],\n",
              " ['MONIQUE', 'HERNANDEZ', '641 BOULEVARD EMMANUEL MALLET', 3772],\n",
              " ['TRISTAN', 'HUET', '5 RUE BERTRAND TORRES', 7500],\n",
              " ['GUY', 'BIGOT', '73 CHEMIN BENOIT', 1273],\n",
              " ['MONIQUE', 'MORENO', 'CHEMIN SUSANNE ALLAIN', 8974],\n",
              " ['STEPHANIE', 'COURTOIS', '10 AVENUE COLLET', 8933],\n",
              " ['VALENTINE', 'LEROUX', 'BOULEVARD DE MARY', 7339],\n",
              " ['CELINA', 'JOLY', '99 AVENUE DE JEAN', 530],\n",
              " ['CELINE', 'LEDOUX', '73 CHEMIN DE PICHON', 3770],\n",
              " ['MARGOT', 'LAMY', '98 CHEMIN DE LAUNAY', 6337],\n",
              " ['MARTHE', 'MORIN', '71 RUE MAGGIE PRUVOST', 2907],\n",
              " ['JOSEPH', 'GILLET', 'RUE TESSIER', 8699],\n",
              " ['THOMAS', 'ALEXANDRE', 'CHEMIN FAURE', 811],\n",
              " ['BERTRAND', 'PERRIER', '74 CHEMIN GILLET', 2981],\n",
              " ['AGATHE', 'GUICHARD', '130 BOULEVARD ANDREE DELATTRE', 3694],\n",
              " ['VIRGINIE', 'GAUDIN', '52 RUE CAPUCINE VALENTIN', 5197],\n",
              " ['MONIQUE', 'MORENO', 'AVENUE DE LEDUC', 8250],\n",
              " ['AGNES', 'LECOMTE', '39 BOULEVARD BOUCHER', 2608],\n",
              " ['MARC', 'FRANCOIS', '89 AVENUE GUICHARD', 8924],\n",
              " ['FRANCOIS', 'VALENTIN', 'BOULEVARD GEORGES', 1127],\n",
              " ['MARGUERITE', 'MUNOZ', '966 RUE DAVID AUGER', 8025],\n",
              " ['AMELIE', 'DE OLIVEIRA', '6 RUE DE PICARD', 2303],\n",
              " ['CHRISTOPHE', 'NOEL', '291 CHEMIN DE LEGRAND', 4815],\n",
              " ['EMILE', 'IMBERT', '696 CHEMIN HENRIETTE COHEN', 1781],\n",
              " ['THIERRY', 'ROCHE', '72 BOULEVARD MARCEL FRANCOIS', 2538],\n",
              " ['THEODORE', 'NEVEU', '71 BOULEVARD AUGUSTIN LACOMBE', 1199],\n",
              " ['ZACHARIE', 'CHEVALIER', '5 RUE CHARTIER', 674],\n",
              " ['GENEVIEVE', 'DA SILVA', 'BOULEVARD GAUTIER', 5024],\n",
              " ['TRISTAN', 'RODRIGUEZ', '8 RUE CELINE MERCIER', 2730],\n",
              " ['AIMEE', 'DA COSTA', '97 CHEMIN DE FRANCOIS', 5194],\n",
              " ['STEPHANE', 'PASQUIER', '804 CHEMIN CLAUDE MARTINEZ', 8576],\n",
              " ['MARC', 'KLEIN', '88 RUE DE DUBOIS', 7632],\n",
              " ['CHARLES', 'CHEVALLIER', '9 RUE VICTOR GAUTIER', 9222],\n",
              " ['VICTOIRE', 'SALMON', 'AVENUE DE REY', 3106],\n",
              " ['NICOLE', 'CHAUVEAU', '62 RUE BENOIT MAILLARD', 5798],\n",
              " ['ALEX', 'CHEVALLIER', '68 CHEMIN INES BLOT', 967],\n",
              " ['PAULETTE', 'GODARD', 'BOULEVARD PIERRE', 8454],\n",
              " ['LOUISE', 'LEVY', '20 CHEMIN DE PINEAU', 8223],\n",
              " ['MARGOT', 'VALENTIN', '7 BOULEVARD GOSSELIN', 8696],\n",
              " ['ZACHARIE', 'MARION', 'RUE DE CARRE', 4544],\n",
              " ['BENOIT', 'BARRE', '94 BOULEVARD DELMAS', 1377],\n",
              " ['THEODORE', 'MARTEL', '35 AVENUE CHRISTELLE SEGUIN', 7818],\n",
              " ['MICHELLE', 'PERROT', 'RUE DE LETELLIER', 4655],\n",
              " ['NATHALIE', 'FOURNIER', '49 RUE DE BONNET', 6564],\n",
              " ['REMY', 'MARION', '1 AVENUE DE MAILLARD', 5452],\n",
              " ['MARINE', 'VALENTIN', '40 RUE DE PERROT', 2702],\n",
              " ['CHRISTIANE', 'COURTOIS', 'RUE DE LAURENT', 1564],\n",
              " ['GUY', 'LEROUX', '9 AVENUE DE DIALLO', 3788],\n",
              " ['PATRICK', 'PICHON', '11 AVENUE ANDRE', 7156],\n",
              " ['ODETTE', 'THIBAULT', '90 CHEMIN BONNET', 3391],\n",
              " ['SIMONE', 'HARDY', 'RUE CHEVALIER', 362],\n",
              " ['MANON', 'GUILLET', '67 RUE GUIBERT', 6758],\n",
              " ['ADRIENNE', 'GOMEZ', '10 RUE JULIEN', 9678],\n",
              " ['LUCY', 'GROS', '84 RUE ARTHUR LEJEUNE', 7811],\n",
              " ['AGATHE', 'LEGENDRE', '23 BOULEVARD GERARD', 6471],\n",
              " ['CHRISTINE', 'LAUNAY', 'RUE JACQUES DIAZ', 3664],\n",
              " ['HENRI', 'JOUBERT', '49 BOULEVARD MICHELLE MARCHAND', 6724],\n",
              " ['NATHALIE', 'LEGER', '95 RUE MONIQUE LAPORTE', 569],\n",
              " ['PAUL', 'CLEMENT', 'AVENUE DE THIERRY', 5300],\n",
              " ['PATRICIA', 'LEGRAND', '81 BOULEVARD DE PELLETIER', 1398],\n",
              " ['ROGER', 'LETELLIER', 'RUE JEAN', 94],\n",
              " ['LAURENCE', 'PELLETIER', '546 CHEMIN POTIER', 1931],\n",
              " ['VALERIE', 'CHAUVIN', 'CHEMIN ROLLAND', 8977],\n",
              " ['YVES', 'MARTINS', 'CHEMIN DE POTTIER', 1687],\n",
              " ['ZOE', 'BEGUE', '373 RUE GOMES', 4585],\n",
              " ['DIANE', 'BARBE', 'RUE THEODORE AUBERT', 6424],\n",
              " ['JULIE', 'BOUVIER', '11 RUE TANGUY', 6337]]"
            ]
          },
          "metadata": {},
          "execution_count": 8
        }
      ]
    },
    {
      "cell_type": "code",
      "source": [
        "df = pd.DataFrame(data = my_list, columns = ['Prenom', 'Nom','adresse','Numero'])"
      ],
      "metadata": {
        "id": "efwkq2GtQpJv"
      },
      "execution_count": 9,
      "outputs": []
    },
    {
      "cell_type": "code",
      "source": [
        "df.head(10)"
      ],
      "metadata": {
        "id": "8aHkXPwUygwi",
        "colab": {
          "base_uri": "https://localhost:8080/",
          "height": 363
        },
        "outputId": "ef4e1a0b-26b3-4bce-fc19-e5a4676e5f49"
      },
      "execution_count": 10,
      "outputs": [
        {
          "output_type": "execute_result",
          "data": {
            "text/html": [
              "\n",
              "  <div id=\"df-97cdc97f-4176-4eb7-b9e3-dd6e7c84907f\">\n",
              "    <div class=\"colab-df-container\">\n",
              "      <div>\n",
              "<style scoped>\n",
              "    .dataframe tbody tr th:only-of-type {\n",
              "        vertical-align: middle;\n",
              "    }\n",
              "\n",
              "    .dataframe tbody tr th {\n",
              "        vertical-align: top;\n",
              "    }\n",
              "\n",
              "    .dataframe thead th {\n",
              "        text-align: right;\n",
              "    }\n",
              "</style>\n",
              "<table border=\"1\" class=\"dataframe\">\n",
              "  <thead>\n",
              "    <tr style=\"text-align: right;\">\n",
              "      <th></th>\n",
              "      <th>Prenom</th>\n",
              "      <th>Nom</th>\n",
              "      <th>adresse</th>\n",
              "      <th>Numero</th>\n",
              "    </tr>\n",
              "  </thead>\n",
              "  <tbody>\n",
              "    <tr>\n",
              "      <th>0</th>\n",
              "      <td>ANTOINETTE</td>\n",
              "      <td>LEMAIRE</td>\n",
              "      <td>337 RUE ADELE GIRAUD</td>\n",
              "      <td>6361</td>\n",
              "    </tr>\n",
              "    <tr>\n",
              "      <th>1</th>\n",
              "      <td>JULIETTE</td>\n",
              "      <td>GREGOIRE</td>\n",
              "      <td>787 RUE DE PELTIER</td>\n",
              "      <td>5012</td>\n",
              "    </tr>\n",
              "    <tr>\n",
              "      <th>2</th>\n",
              "      <td>EDITH</td>\n",
              "      <td>LOMBARD</td>\n",
              "      <td>398 AVENUE KLEIN</td>\n",
              "      <td>5263</td>\n",
              "    </tr>\n",
              "    <tr>\n",
              "      <th>3</th>\n",
              "      <td>ARNAUDE</td>\n",
              "      <td>MAURY</td>\n",
              "      <td>902 CHEMIN DE PASQUIER</td>\n",
              "      <td>8728</td>\n",
              "    </tr>\n",
              "    <tr>\n",
              "      <th>4</th>\n",
              "      <td>ALEX</td>\n",
              "      <td>NORMAND</td>\n",
              "      <td>65 AVENUE BRETON</td>\n",
              "      <td>2557</td>\n",
              "    </tr>\n",
              "    <tr>\n",
              "      <th>5</th>\n",
              "      <td>LAURE</td>\n",
              "      <td>FOUQUET</td>\n",
              "      <td>CHEMIN LEVY</td>\n",
              "      <td>2257</td>\n",
              "    </tr>\n",
              "    <tr>\n",
              "      <th>6</th>\n",
              "      <td>ARNAUDE</td>\n",
              "      <td>PETITJEAN</td>\n",
              "      <td>74 AVENUE LAURENT</td>\n",
              "      <td>8914</td>\n",
              "    </tr>\n",
              "    <tr>\n",
              "      <th>7</th>\n",
              "      <td>ETIENNE</td>\n",
              "      <td>LUCAS</td>\n",
              "      <td>31 RUE DE BARON</td>\n",
              "      <td>3489</td>\n",
              "    </tr>\n",
              "    <tr>\n",
              "      <th>8</th>\n",
              "      <td>JEANNE</td>\n",
              "      <td>BRUN</td>\n",
              "      <td>6 RUE CAPUCINE VIDAL</td>\n",
              "      <td>9311</td>\n",
              "    </tr>\n",
              "    <tr>\n",
              "      <th>9</th>\n",
              "      <td>LUCIE</td>\n",
              "      <td>LEGRAND</td>\n",
              "      <td>15 CHEMIN DE POTIER</td>\n",
              "      <td>6316</td>\n",
              "    </tr>\n",
              "  </tbody>\n",
              "</table>\n",
              "</div>\n",
              "      <button class=\"colab-df-convert\" onclick=\"convertToInteractive('df-97cdc97f-4176-4eb7-b9e3-dd6e7c84907f')\"\n",
              "              title=\"Convert this dataframe to an interactive table.\"\n",
              "              style=\"display:none;\">\n",
              "        \n",
              "  <svg xmlns=\"http://www.w3.org/2000/svg\" height=\"24px\"viewBox=\"0 0 24 24\"\n",
              "       width=\"24px\">\n",
              "    <path d=\"M0 0h24v24H0V0z\" fill=\"none\"/>\n",
              "    <path d=\"M18.56 5.44l.94 2.06.94-2.06 2.06-.94-2.06-.94-.94-2.06-.94 2.06-2.06.94zm-11 1L8.5 8.5l.94-2.06 2.06-.94-2.06-.94L8.5 2.5l-.94 2.06-2.06.94zm10 10l.94 2.06.94-2.06 2.06-.94-2.06-.94-.94-2.06-.94 2.06-2.06.94z\"/><path d=\"M17.41 7.96l-1.37-1.37c-.4-.4-.92-.59-1.43-.59-.52 0-1.04.2-1.43.59L10.3 9.45l-7.72 7.72c-.78.78-.78 2.05 0 2.83L4 21.41c.39.39.9.59 1.41.59.51 0 1.02-.2 1.41-.59l7.78-7.78 2.81-2.81c.8-.78.8-2.07 0-2.86zM5.41 20L4 18.59l7.72-7.72 1.47 1.35L5.41 20z\"/>\n",
              "  </svg>\n",
              "      </button>\n",
              "      \n",
              "  <style>\n",
              "    .colab-df-container {\n",
              "      display:flex;\n",
              "      flex-wrap:wrap;\n",
              "      gap: 12px;\n",
              "    }\n",
              "\n",
              "    .colab-df-convert {\n",
              "      background-color: #E8F0FE;\n",
              "      border: none;\n",
              "      border-radius: 50%;\n",
              "      cursor: pointer;\n",
              "      display: none;\n",
              "      fill: #1967D2;\n",
              "      height: 32px;\n",
              "      padding: 0 0 0 0;\n",
              "      width: 32px;\n",
              "    }\n",
              "\n",
              "    .colab-df-convert:hover {\n",
              "      background-color: #E2EBFA;\n",
              "      box-shadow: 0px 1px 2px rgba(60, 64, 67, 0.3), 0px 1px 3px 1px rgba(60, 64, 67, 0.15);\n",
              "      fill: #174EA6;\n",
              "    }\n",
              "\n",
              "    [theme=dark] .colab-df-convert {\n",
              "      background-color: #3B4455;\n",
              "      fill: #D2E3FC;\n",
              "    }\n",
              "\n",
              "    [theme=dark] .colab-df-convert:hover {\n",
              "      background-color: #434B5C;\n",
              "      box-shadow: 0px 1px 3px 1px rgba(0, 0, 0, 0.15);\n",
              "      filter: drop-shadow(0px 1px 2px rgba(0, 0, 0, 0.3));\n",
              "      fill: #FFFFFF;\n",
              "    }\n",
              "  </style>\n",
              "\n",
              "      <script>\n",
              "        const buttonEl =\n",
              "          document.querySelector('#df-97cdc97f-4176-4eb7-b9e3-dd6e7c84907f button.colab-df-convert');\n",
              "        buttonEl.style.display =\n",
              "          google.colab.kernel.accessAllowed ? 'block' : 'none';\n",
              "\n",
              "        async function convertToInteractive(key) {\n",
              "          const element = document.querySelector('#df-97cdc97f-4176-4eb7-b9e3-dd6e7c84907f');\n",
              "          const dataTable =\n",
              "            await google.colab.kernel.invokeFunction('convertToInteractive',\n",
              "                                                     [key], {});\n",
              "          if (!dataTable) return;\n",
              "\n",
              "          const docLinkHtml = 'Like what you see? Visit the ' +\n",
              "            '<a target=\"_blank\" href=https://colab.research.google.com/notebooks/data_table.ipynb>data table notebook</a>'\n",
              "            + ' to learn more about interactive tables.';\n",
              "          element.innerHTML = '';\n",
              "          dataTable['output_type'] = 'display_data';\n",
              "          await google.colab.output.renderOutput(dataTable, element);\n",
              "          const docLink = document.createElement('div');\n",
              "          docLink.innerHTML = docLinkHtml;\n",
              "          element.appendChild(docLink);\n",
              "        }\n",
              "      </script>\n",
              "    </div>\n",
              "  </div>\n",
              "  "
            ],
            "text/plain": [
              "       Prenom        Nom                 adresse  Numero\n",
              "0  ANTOINETTE    LEMAIRE    337 RUE ADELE GIRAUD    6361\n",
              "1    JULIETTE   GREGOIRE      787 RUE DE PELTIER    5012\n",
              "2       EDITH    LOMBARD        398 AVENUE KLEIN    5263\n",
              "3     ARNAUDE      MAURY  902 CHEMIN DE PASQUIER    8728\n",
              "4        ALEX    NORMAND        65 AVENUE BRETON    2557\n",
              "5       LAURE    FOUQUET             CHEMIN LEVY    2257\n",
              "6     ARNAUDE  PETITJEAN       74 AVENUE LAURENT    8914\n",
              "7     ETIENNE      LUCAS         31 RUE DE BARON    3489\n",
              "8      JEANNE       BRUN    6 RUE CAPUCINE VIDAL    9311\n",
              "9       LUCIE    LEGRAND     15 CHEMIN DE POTIER    6316"
            ]
          },
          "metadata": {},
          "execution_count": 10
        }
      ]
    },
    {
      "cell_type": "markdown",
      "source": [
        "Mise en largeur des colonnes : ajouts des espaces ou zéros à gauche"
      ],
      "metadata": {
        "id": "z33CbWLGWuiT"
      }
    },
    {
      "cell_type": "code",
      "source": [
        "prenom2 = []"
      ],
      "metadata": {
        "id": "3-3ObmssjLT1"
      },
      "execution_count": 11,
      "outputs": []
    },
    {
      "cell_type": "code",
      "source": [
        "for item in df.Prenom:\n",
        "  remplissage = 30 - len(item)\n",
        "  prenom2.append(item+remplissage*\" \")"
      ],
      "metadata": {
        "id": "63TToiU4itc5"
      },
      "execution_count": 12,
      "outputs": []
    },
    {
      "cell_type": "code",
      "source": [
        "nom2=[]\n",
        "for item in df.Nom:\n",
        "  remplissage = 30 - len(item)\n",
        "  nom2.append(item+remplissage*\" \")"
      ],
      "metadata": {
        "id": "3GQlc3XokG-v"
      },
      "execution_count": 13,
      "outputs": []
    },
    {
      "cell_type": "code",
      "source": [
        "code2= []\n",
        "for item in df.Numero:\n",
        "    remplissage = 20 -len(str(item))\n",
        "    code2.append(remplissage*\"0\"+str(item))"
      ],
      "metadata": {
        "id": "XA7f5my5XI7m"
      },
      "execution_count": 16,
      "outputs": []
    },
    {
      "cell_type": "code",
      "source": [
        "from os import write\n",
        "with open('resultats.txt', 'w') as f:\n",
        "    for compteur in range(len(nom2)):\n",
        "        f.write(nom2[compteur]+prenom2[compteur]+code2[compteur]+'\\n')\n",
        "        compteur += 1"
      ],
      "metadata": {
        "id": "IjkbiA7oyPbV"
      },
      "execution_count": 19,
      "outputs": []
    },
    {
      "cell_type": "code",
      "source": [
        ""
      ],
      "metadata": {
        "id": "YAHx9e3q8uca"
      },
      "execution_count": null,
      "outputs": []
    }
  ]
}