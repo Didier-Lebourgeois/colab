{
  "nbformat": 4,
  "nbformat_minor": 0,
  "metadata": {
    "colab": {
      "name": "df_fake_data.ipynb",
      "provenance": [],
      "include_colab_link": true
    },
    "kernelspec": {
      "name": "python3",
      "display_name": "Python 3"
    },
    "language_info": {
      "name": "python"
    }
  },
  "cells": [
    {
      "cell_type": "markdown",
      "metadata": {
        "id": "view-in-github",
        "colab_type": "text"
      },
      "source": [
        "<a href=\"https://colab.research.google.com/github/Didier-Lebourgeois/colab/blob/main/df_fake_data.ipynb\" target=\"_parent\"><img src=\"https://colab.research.google.com/assets/colab-badge.svg\" alt=\"Open In Colab\"/></a>"
      ]
    },
    {
      "cell_type": "markdown",
      "source": [
        "#Générer un dataframe constitué de données fake pour tester des algorythmes en préservant les données personnelles"
      ],
      "metadata": {
        "id": "5F1Hq6hw7KRy"
      }
    },
    {
      "cell_type": "code",
      "execution_count": 1,
      "metadata": {
        "colab": {
          "base_uri": "https://localhost:8080/"
        },
        "id": "B9VCqjX-F3xB",
        "outputId": "43152f1a-3411-4992-ee64-8abe0e644165"
      },
      "outputs": [
        {
          "output_type": "stream",
          "name": "stdout",
          "text": [
            "Collecting Faker\n",
            "  Downloading Faker-13.0.0-py3-none-any.whl (1.5 MB)\n",
            "\u001b[?25l\r\u001b[K     |▏                               | 10 kB 21.1 MB/s eta 0:00:01\r\u001b[K     |▍                               | 20 kB 22.7 MB/s eta 0:00:01\r\u001b[K     |▋                               | 30 kB 26.0 MB/s eta 0:00:01\r\u001b[K     |▉                               | 40 kB 21.1 MB/s eta 0:00:01\r\u001b[K     |█                               | 51 kB 17.5 MB/s eta 0:00:01\r\u001b[K     |█▎                              | 61 kB 19.7 MB/s eta 0:00:01\r\u001b[K     |█▌                              | 71 kB 15.7 MB/s eta 0:00:01\r\u001b[K     |█▊                              | 81 kB 16.7 MB/s eta 0:00:01\r\u001b[K     |██                              | 92 kB 18.1 MB/s eta 0:00:01\r\u001b[K     |██▏                             | 102 kB 18.4 MB/s eta 0:00:01\r\u001b[K     |██▍                             | 112 kB 18.4 MB/s eta 0:00:01\r\u001b[K     |██▋                             | 122 kB 18.4 MB/s eta 0:00:01\r\u001b[K     |██▉                             | 133 kB 18.4 MB/s eta 0:00:01\r\u001b[K     |███                             | 143 kB 18.4 MB/s eta 0:00:01\r\u001b[K     |███▎                            | 153 kB 18.4 MB/s eta 0:00:01\r\u001b[K     |███▌                            | 163 kB 18.4 MB/s eta 0:00:01\r\u001b[K     |███▊                            | 174 kB 18.4 MB/s eta 0:00:01\r\u001b[K     |████                            | 184 kB 18.4 MB/s eta 0:00:01\r\u001b[K     |████▏                           | 194 kB 18.4 MB/s eta 0:00:01\r\u001b[K     |████▍                           | 204 kB 18.4 MB/s eta 0:00:01\r\u001b[K     |████▋                           | 215 kB 18.4 MB/s eta 0:00:01\r\u001b[K     |████▉                           | 225 kB 18.4 MB/s eta 0:00:01\r\u001b[K     |█████                           | 235 kB 18.4 MB/s eta 0:00:01\r\u001b[K     |█████▎                          | 245 kB 18.4 MB/s eta 0:00:01\r\u001b[K     |█████▌                          | 256 kB 18.4 MB/s eta 0:00:01\r\u001b[K     |█████▊                          | 266 kB 18.4 MB/s eta 0:00:01\r\u001b[K     |██████                          | 276 kB 18.4 MB/s eta 0:00:01\r\u001b[K     |██████▏                         | 286 kB 18.4 MB/s eta 0:00:01\r\u001b[K     |██████▍                         | 296 kB 18.4 MB/s eta 0:00:01\r\u001b[K     |██████▋                         | 307 kB 18.4 MB/s eta 0:00:01\r\u001b[K     |██████▉                         | 317 kB 18.4 MB/s eta 0:00:01\r\u001b[K     |███████                         | 327 kB 18.4 MB/s eta 0:00:01\r\u001b[K     |███████▎                        | 337 kB 18.4 MB/s eta 0:00:01\r\u001b[K     |███████▌                        | 348 kB 18.4 MB/s eta 0:00:01\r\u001b[K     |███████▊                        | 358 kB 18.4 MB/s eta 0:00:01\r\u001b[K     |████████                        | 368 kB 18.4 MB/s eta 0:00:01\r\u001b[K     |████████▏                       | 378 kB 18.4 MB/s eta 0:00:01\r\u001b[K     |████████▍                       | 389 kB 18.4 MB/s eta 0:00:01\r\u001b[K     |████████▋                       | 399 kB 18.4 MB/s eta 0:00:01\r\u001b[K     |████████▉                       | 409 kB 18.4 MB/s eta 0:00:01\r\u001b[K     |█████████                       | 419 kB 18.4 MB/s eta 0:00:01\r\u001b[K     |█████████▎                      | 430 kB 18.4 MB/s eta 0:00:01\r\u001b[K     |█████████▌                      | 440 kB 18.4 MB/s eta 0:00:01\r\u001b[K     |█████████▊                      | 450 kB 18.4 MB/s eta 0:00:01\r\u001b[K     |██████████                      | 460 kB 18.4 MB/s eta 0:00:01\r\u001b[K     |██████████▏                     | 471 kB 18.4 MB/s eta 0:00:01\r\u001b[K     |██████████▍                     | 481 kB 18.4 MB/s eta 0:00:01\r\u001b[K     |██████████▋                     | 491 kB 18.4 MB/s eta 0:00:01\r\u001b[K     |██████████▉                     | 501 kB 18.4 MB/s eta 0:00:01\r\u001b[K     |███████████                     | 512 kB 18.4 MB/s eta 0:00:01\r\u001b[K     |███████████▎                    | 522 kB 18.4 MB/s eta 0:00:01\r\u001b[K     |███████████▌                    | 532 kB 18.4 MB/s eta 0:00:01\r\u001b[K     |███████████▊                    | 542 kB 18.4 MB/s eta 0:00:01\r\u001b[K     |████████████                    | 552 kB 18.4 MB/s eta 0:00:01\r\u001b[K     |████████████▏                   | 563 kB 18.4 MB/s eta 0:00:01\r\u001b[K     |████████████▍                   | 573 kB 18.4 MB/s eta 0:00:01\r\u001b[K     |████████████▋                   | 583 kB 18.4 MB/s eta 0:00:01\r\u001b[K     |████████████▉                   | 593 kB 18.4 MB/s eta 0:00:01\r\u001b[K     |█████████████                   | 604 kB 18.4 MB/s eta 0:00:01\r\u001b[K     |█████████████▎                  | 614 kB 18.4 MB/s eta 0:00:01\r\u001b[K     |█████████████▌                  | 624 kB 18.4 MB/s eta 0:00:01\r\u001b[K     |█████████████▊                  | 634 kB 18.4 MB/s eta 0:00:01\r\u001b[K     |██████████████                  | 645 kB 18.4 MB/s eta 0:00:01\r\u001b[K     |██████████████▏                 | 655 kB 18.4 MB/s eta 0:00:01\r\u001b[K     |██████████████▍                 | 665 kB 18.4 MB/s eta 0:00:01\r\u001b[K     |██████████████▋                 | 675 kB 18.4 MB/s eta 0:00:01\r\u001b[K     |██████████████▉                 | 686 kB 18.4 MB/s eta 0:00:01\r\u001b[K     |███████████████                 | 696 kB 18.4 MB/s eta 0:00:01\r\u001b[K     |███████████████▎                | 706 kB 18.4 MB/s eta 0:00:01\r\u001b[K     |███████████████▍                | 716 kB 18.4 MB/s eta 0:00:01\r\u001b[K     |███████████████▋                | 727 kB 18.4 MB/s eta 0:00:01\r\u001b[K     |███████████████▉                | 737 kB 18.4 MB/s eta 0:00:01\r\u001b[K     |████████████████                | 747 kB 18.4 MB/s eta 0:00:01\r\u001b[K     |████████████████▎               | 757 kB 18.4 MB/s eta 0:00:01\r\u001b[K     |████████████████▌               | 768 kB 18.4 MB/s eta 0:00:01\r\u001b[K     |████████████████▊               | 778 kB 18.4 MB/s eta 0:00:01\r\u001b[K     |█████████████████               | 788 kB 18.4 MB/s eta 0:00:01\r\u001b[K     |█████████████████▏              | 798 kB 18.4 MB/s eta 0:00:01\r\u001b[K     |█████████████████▍              | 808 kB 18.4 MB/s eta 0:00:01\r\u001b[K     |█████████████████▋              | 819 kB 18.4 MB/s eta 0:00:01\r\u001b[K     |█████████████████▉              | 829 kB 18.4 MB/s eta 0:00:01\r\u001b[K     |██████████████████              | 839 kB 18.4 MB/s eta 0:00:01\r\u001b[K     |██████████████████▎             | 849 kB 18.4 MB/s eta 0:00:01\r\u001b[K     |██████████████████▌             | 860 kB 18.4 MB/s eta 0:00:01\r\u001b[K     |██████████████████▊             | 870 kB 18.4 MB/s eta 0:00:01\r\u001b[K     |███████████████████             | 880 kB 18.4 MB/s eta 0:00:01\r\u001b[K     |███████████████████▏            | 890 kB 18.4 MB/s eta 0:00:01\r\u001b[K     |███████████████████▍            | 901 kB 18.4 MB/s eta 0:00:01\r\u001b[K     |███████████████████▋            | 911 kB 18.4 MB/s eta 0:00:01\r\u001b[K     |███████████████████▉            | 921 kB 18.4 MB/s eta 0:00:01\r\u001b[K     |████████████████████            | 931 kB 18.4 MB/s eta 0:00:01\r\u001b[K     |████████████████████▎           | 942 kB 18.4 MB/s eta 0:00:01\r\u001b[K     |████████████████████▌           | 952 kB 18.4 MB/s eta 0:00:01\r\u001b[K     |████████████████████▊           | 962 kB 18.4 MB/s eta 0:00:01\r\u001b[K     |█████████████████████           | 972 kB 18.4 MB/s eta 0:00:01\r\u001b[K     |█████████████████████▏          | 983 kB 18.4 MB/s eta 0:00:01\r\u001b[K     |█████████████████████▍          | 993 kB 18.4 MB/s eta 0:00:01\r\u001b[K     |█████████████████████▋          | 1.0 MB 18.4 MB/s eta 0:00:01\r\u001b[K     |█████████████████████▉          | 1.0 MB 18.4 MB/s eta 0:00:01\r\u001b[K     |██████████████████████          | 1.0 MB 18.4 MB/s eta 0:00:01\r\u001b[K     |██████████████████████▎         | 1.0 MB 18.4 MB/s eta 0:00:01\r\u001b[K     |██████████████████████▌         | 1.0 MB 18.4 MB/s eta 0:00:01\r\u001b[K     |██████████████████████▊         | 1.1 MB 18.4 MB/s eta 0:00:01\r\u001b[K     |███████████████████████         | 1.1 MB 18.4 MB/s eta 0:00:01\r\u001b[K     |███████████████████████▏        | 1.1 MB 18.4 MB/s eta 0:00:01\r\u001b[K     |███████████████████████▍        | 1.1 MB 18.4 MB/s eta 0:00:01\r\u001b[K     |███████████████████████▋        | 1.1 MB 18.4 MB/s eta 0:00:01\r\u001b[K     |███████████████████████▉        | 1.1 MB 18.4 MB/s eta 0:00:01\r\u001b[K     |████████████████████████        | 1.1 MB 18.4 MB/s eta 0:00:01\r\u001b[K     |████████████████████████▎       | 1.1 MB 18.4 MB/s eta 0:00:01\r\u001b[K     |████████████████████████▌       | 1.1 MB 18.4 MB/s eta 0:00:01\r\u001b[K     |████████████████████████▊       | 1.1 MB 18.4 MB/s eta 0:00:01\r\u001b[K     |█████████████████████████       | 1.2 MB 18.4 MB/s eta 0:00:01\r\u001b[K     |█████████████████████████▏      | 1.2 MB 18.4 MB/s eta 0:00:01\r\u001b[K     |█████████████████████████▍      | 1.2 MB 18.4 MB/s eta 0:00:01\r\u001b[K     |█████████████████████████▋      | 1.2 MB 18.4 MB/s eta 0:00:01\r\u001b[K     |█████████████████████████▉      | 1.2 MB 18.4 MB/s eta 0:00:01\r\u001b[K     |██████████████████████████      | 1.2 MB 18.4 MB/s eta 0:00:01\r\u001b[K     |██████████████████████████▎     | 1.2 MB 18.4 MB/s eta 0:00:01\r\u001b[K     |██████████████████████████▌     | 1.2 MB 18.4 MB/s eta 0:00:01\r\u001b[K     |██████████████████████████▊     | 1.2 MB 18.4 MB/s eta 0:00:01\r\u001b[K     |███████████████████████████     | 1.2 MB 18.4 MB/s eta 0:00:01\r\u001b[K     |███████████████████████████▏    | 1.3 MB 18.4 MB/s eta 0:00:01\r\u001b[K     |███████████████████████████▍    | 1.3 MB 18.4 MB/s eta 0:00:01\r\u001b[K     |███████████████████████████▋    | 1.3 MB 18.4 MB/s eta 0:00:01\r\u001b[K     |███████████████████████████▉    | 1.3 MB 18.4 MB/s eta 0:00:01\r\u001b[K     |████████████████████████████    | 1.3 MB 18.4 MB/s eta 0:00:01\r\u001b[K     |████████████████████████████▎   | 1.3 MB 18.4 MB/s eta 0:00:01\r\u001b[K     |████████████████████████████▌   | 1.3 MB 18.4 MB/s eta 0:00:01\r\u001b[K     |████████████████████████████▊   | 1.3 MB 18.4 MB/s eta 0:00:01\r\u001b[K     |█████████████████████████████   | 1.3 MB 18.4 MB/s eta 0:00:01\r\u001b[K     |█████████████████████████████▏  | 1.4 MB 18.4 MB/s eta 0:00:01\r\u001b[K     |█████████████████████████████▍  | 1.4 MB 18.4 MB/s eta 0:00:01\r\u001b[K     |█████████████████████████████▋  | 1.4 MB 18.4 MB/s eta 0:00:01\r\u001b[K     |█████████████████████████████▉  | 1.4 MB 18.4 MB/s eta 0:00:01\r\u001b[K     |██████████████████████████████  | 1.4 MB 18.4 MB/s eta 0:00:01\r\u001b[K     |██████████████████████████████▎ | 1.4 MB 18.4 MB/s eta 0:00:01\r\u001b[K     |██████████████████████████████▌ | 1.4 MB 18.4 MB/s eta 0:00:01\r\u001b[K     |██████████████████████████████▋ | 1.4 MB 18.4 MB/s eta 0:00:01\r\u001b[K     |██████████████████████████████▉ | 1.4 MB 18.4 MB/s eta 0:00:01\r\u001b[K     |███████████████████████████████ | 1.4 MB 18.4 MB/s eta 0:00:01\r\u001b[K     |███████████████████████████████▎| 1.5 MB 18.4 MB/s eta 0:00:01\r\u001b[K     |███████████████████████████████▌| 1.5 MB 18.4 MB/s eta 0:00:01\r\u001b[K     |███████████████████████████████▊| 1.5 MB 18.4 MB/s eta 0:00:01\r\u001b[K     |████████████████████████████████| 1.5 MB 18.4 MB/s eta 0:00:01\r\u001b[K     |████████████████████████████████| 1.5 MB 18.4 MB/s \n",
            "\u001b[?25hRequirement already satisfied: typing-extensions>=3.10.0.2 in /usr/local/lib/python3.7/dist-packages (from Faker) (3.10.0.2)\n",
            "Requirement already satisfied: python-dateutil>=2.4 in /usr/local/lib/python3.7/dist-packages (from Faker) (2.8.2)\n",
            "Requirement already satisfied: six>=1.5 in /usr/local/lib/python3.7/dist-packages (from python-dateutil>=2.4->Faker) (1.15.0)\n",
            "Installing collected packages: Faker\n",
            "Successfully installed Faker-13.0.0\n"
          ]
        }
      ],
      "source": [
        "!pip install Faker\n",
        "from faker import Faker\n",
        "import pandas as pd"
      ]
    },
    {
      "cell_type": "code",
      "source": [
        "import unicodedata"
      ],
      "metadata": {
        "id": "Gnrimogs0j9W"
      },
      "execution_count": 2,
      "outputs": []
    },
    {
      "cell_type": "code",
      "source": [
        "def remove_accents(input_str):\n",
        "  \"\"\"une fonction pour supprimer les accents\"\"\"\n",
        "  nfkd_form = unicodedata.normalize('NFKD', input_str)\n",
        "  return u\"\".join([c for c in nfkd_form if not unicodedata.combining(c)])"
      ],
      "metadata": {
        "id": "rah4zYxS041_"
      },
      "execution_count": 3,
      "outputs": []
    },
    {
      "cell_type": "code",
      "source": [
        "fake = Faker(['fr_FR'])"
      ],
      "metadata": {
        "id": "UqRrDhMeF_if"
      },
      "execution_count": 4,
      "outputs": []
    },
    {
      "cell_type": "code",
      "source": [
        "my_list = []\n",
        "for x in range(100):\n",
        "  my_list.append([remove_accents((fake.first_name()).upper()), \n",
        "                  remove_accents((fake.last_name()).upper()), \n",
        "                  remove_accents(((fake.street_address()).upper()).replace(',',''))])"
      ],
      "metadata": {
        "id": "_RtK_KxCGQoT"
      },
      "execution_count": 5,
      "outputs": []
    },
    {
      "cell_type": "code",
      "source": [
        "remove_accents(fake.city()).upper()"
      ],
      "metadata": {
        "colab": {
          "base_uri": "https://localhost:8080/",
          "height": 35
        },
        "id": "WpNXQA2Jjd89",
        "outputId": "129ac5d4-aa8d-477f-c8bd-56efa8c47944"
      },
      "execution_count": 6,
      "outputs": [
        {
          "output_type": "execute_result",
          "data": {
            "application/vnd.google.colaboratory.intrinsic+json": {
              "type": "string"
            },
            "text/plain": [
              "'OLIVIER'"
            ]
          },
          "metadata": {},
          "execution_count": 6
        }
      ]
    },
    {
      "cell_type": "code",
      "source": [
        "my_list"
      ],
      "metadata": {
        "colab": {
          "base_uri": "https://localhost:8080/"
        },
        "id": "OWjfd12FPPcg",
        "outputId": "49ebfcd1-2743-449c-d0e6-a46cbe9a16ae"
      },
      "execution_count": 7,
      "outputs": [
        {
          "output_type": "execute_result",
          "data": {
            "text/plain": [
              "[['THERESE', 'GUYON', '9 BOULEVARD MARINE HEBERT'],\n",
              " ['ARTHUR', 'LAPORTE', '919 RUE DE GILLET'],\n",
              " ['FREDERIC', 'BERNIER', '69 RUE DE JOURDAN'],\n",
              " ['CONSTANCE', 'RENAUD', '15 RUE DE BARON'],\n",
              " ['GUY', 'HERNANDEZ', '65 RUE DE PERRET'],\n",
              " ['BERTRAND', 'RENAULT', '67 CHEMIN LEBLANC'],\n",
              " ['VALENTINE', 'MORVAN', '10 RUE DE GOSSELIN'],\n",
              " ['RICHARD', 'ALLARD', '2 BOULEVARD ZOE LAURENT'],\n",
              " ['WILLIAM', 'GONZALEZ', '23 RUE SANCHEZ'],\n",
              " ['ANNE', 'ANDRE', '2 AVENUE DE PEREIRA'],\n",
              " ['MICHELLE', 'MARTINS', '1 RUE NICOLE JOUBERT'],\n",
              " ['SIMONE', 'PONS', '5 RUE COLAS'],\n",
              " ['MONIQUE', 'BESSON', '92 AVENUE DELORME'],\n",
              " ['MARIANNE', 'MOREAU', '660 RUE DE BUISSON'],\n",
              " ['MICHEL', 'RIOU', 'BOULEVARD CHRETIEN'],\n",
              " ['CECILE', 'MICHAUD', '70 BOULEVARD MEUNIER'],\n",
              " ['ALEXANDRE', 'BERTIN', '78 AVENUE VALENTINE MULLER'],\n",
              " ['ROGER', 'BECKER', '3 AVENUE AUBERT'],\n",
              " ['ARNAUDE', 'VIDAL', '5 RUE FRANCK LEMAIRE'],\n",
              " ['HORTENSE', 'FRANCOIS', '6 RUE GABRIEL LETELLIER'],\n",
              " ['ADELE', 'BRETON', '996 RUE POULAIN'],\n",
              " ['VALERIE', 'CHARLES', '1 AVENUE LE ROUX'],\n",
              " ['ALEXANDRIA', 'BRETON', 'AVENUE DE DA SILVA'],\n",
              " ['RAYMOND', 'SAMSON', '33 RUE DE DELAHAYE'],\n",
              " ['DAVID', 'ROCHER', '6 AVENUE DE GARCIA'],\n",
              " ['RENEE', 'BARRE', 'BOULEVARD DE LUCAS'],\n",
              " ['AUDREY', 'MERLE', '66 AVENUE DE CHRETIEN'],\n",
              " ['LUCY', 'MENARD', 'BOULEVARD HELENE REYNAUD'],\n",
              " ['LUCE', 'BUISSON', '7 BOULEVARD LAURENT LEMONNIER'],\n",
              " ['FRANCOISE', 'AUBRY', '6 RUE GREGOIRE TECHER'],\n",
              " ['MARTIN', 'RIBEIRO', '8 RUE DE GAUTHIER'],\n",
              " ['ANTOINE', 'PETIT', '86 AVENUE LECOMTE'],\n",
              " ['FRANCOISE', 'GILLES', 'BOULEVARD DE PAGES'],\n",
              " ['MARC', 'GILBERT', '23 AVENUE DENISE POTIER'],\n",
              " ['ELISABETH', 'LEVEQUE', '77 AVENUE DE MAHE'],\n",
              " ['CHARLES', 'LANGLOIS', '3 CHEMIN MAGGIE FAIVRE'],\n",
              " ['MATTHIEU', 'BEGUE', '67 BOULEVARD GERARD'],\n",
              " ['ZACHARIE', 'ALEXANDRE', '36 AVENUE LE GOFF'],\n",
              " ['GENEVIEVE', 'MARCHAND', '51 CHEMIN DE BONNEAU'],\n",
              " ['AGNES', 'JOSEPH', '62 RUE GRENIER'],\n",
              " ['ELISABETH', 'ADAM', '17 CHEMIN PATRICK BERTIN'],\n",
              " ['COLETTE', 'CHAUVEAU', '736 RUE JULIE GUIBERT'],\n",
              " ['ISABELLE', 'GIRAUD', '66 CHEMIN CECILE LEDUC'],\n",
              " ['JACQUELINE', 'CAMUS', '86 CHEMIN DE BECKER'],\n",
              " ['EUGENE', 'DOS SANTOS', '328 RUE PELTIER'],\n",
              " ['FRANCOISE', 'MICHEL', '21 RUE DE LEBON'],\n",
              " ['CAROLINE', 'BLIN', '51 BOULEVARD GUICHARD'],\n",
              " ['BENJAMIN', 'TRAORE', '84 BOULEVARD CAROLINE LETELLIER'],\n",
              " ['CHRISTIANE', 'RENAUD', '73 AVENUE DE ROGER'],\n",
              " ['CELINA', 'SANCHEZ', '591 RUE DENISE GAUDIN'],\n",
              " ['ANASTASIE', 'POTIER', '67 RUE COULON'],\n",
              " ['THEODORE', 'WEBER', '6 RUE DE BOURGEOIS'],\n",
              " ['OCEANE', 'LACOMBE', '4 RUE FRANCOIS'],\n",
              " ['AIMEE', 'GILLES', '69 RUE BERTRAND'],\n",
              " ['GILLES', 'COLAS', '42 RUE DE MICHAUD'],\n",
              " ['HUGUES', 'DUBOIS', '21 AVENUE CAPUCINE BLANCHET'],\n",
              " ['LAURE', 'TEIXEIRA', 'RUE JACQUES COSTE'],\n",
              " ['MARIE', 'BRUN', '60 BOULEVARD MOULIN'],\n",
              " ['BRIGITTE', 'BARBE', '200 RUE MARTEL'],\n",
              " ['FRANCOIS', 'DAVID', '7 CHEMIN DE CHAUVEAU'],\n",
              " ['ALEXANDRE', 'PETIT', 'RUE DUMONT'],\n",
              " ['ARNAUDE', 'GUYOT', '35 CHEMIN ALPHONSE PELLETIER'],\n",
              " ['THEOPHILE', 'EVRARD', '88 AVENUE HUMBERT'],\n",
              " ['VALENTINE', 'BERTRAND', '7 BOULEVARD DE HAMON'],\n",
              " ['RENEE', 'AUBRY', '199 AVENUE DANIEL ROCHE'],\n",
              " ['NATHALIE', 'LE GALL', '20 RUE DE LAMY'],\n",
              " ['GEORGES', 'GROS', '60 AVENUE CONSTANCE GRONDIN'],\n",
              " ['BERTRAND', 'DOS SANTOS', '7 BOULEVARD THIBAUT MATHIEU'],\n",
              " ['LOUIS', 'DUBOIS', '365 RUE ROGER BOURDON'],\n",
              " ['DIANE', 'NOEL', '51 BOULEVARD MATTHIEU FAIVRE'],\n",
              " ['ROLAND', 'NEVEU', '9 AVENUE LETELLIER'],\n",
              " ['CHARLES', 'GUYON', '52 CHEMIN DE BARTHELEMY'],\n",
              " ['ALIX', 'LEGRAND', '9 RUE DE BARRE'],\n",
              " ['LAURE', 'SANCHEZ', '77 CHEMIN DE FERNANDES'],\n",
              " ['DENIS', 'PINEAU', 'BOULEVARD THEODORE CHARPENTIER'],\n",
              " ['DANIEL', 'MARTINEAU', '220 RUE WILLIAM BERTIN'],\n",
              " ['LAURENCE', 'BRUNET', '619 CHEMIN JACQUELINE ARNAUD'],\n",
              " ['CAMILLE', 'SAUVAGE', 'RUE CHRISTELLE DESCAMPS'],\n",
              " ['LOUIS', 'LEMOINE', '36 BOULEVARD DE COULON'],\n",
              " ['JEANNE', 'HERVE', 'AVENUE DE LOPEZ'],\n",
              " ['VALERIE', 'AUBERT', '66 RUE SOPHIE BARON'],\n",
              " ['PHILIPPINE', 'MACE', '97 AVENUE LEROUX'],\n",
              " ['ISABELLE', 'TORRES', 'BOULEVARD DE CORDIER'],\n",
              " ['ALAIN', 'GAUTIER', '53 AVENUE ANASTASIE ALLARD'],\n",
              " ['JEROME', 'MAURY', '81 RUE DE CARRE'],\n",
              " ['CLAIRE', 'LESAGE', '997 AVENUE LEROUX'],\n",
              " ['GEORGES', 'LEFORT', '317 RUE CECILE FAURE'],\n",
              " ['ALICE', 'COHEN', '4 RUE DE COLLIN'],\n",
              " ['RENE', 'MASSE', '674 RUE DE BAUDRY'],\n",
              " ['AMELIE', 'DA COSTA', '745 RUE AGNES THOMAS'],\n",
              " ['AURELIE', 'DA SILVA', '77 RUE LEFEVRE'],\n",
              " ['THIERRY', 'BENARD', 'CHEMIN OLIVIER GUILLOU'],\n",
              " ['XAVIER', 'SANCHEZ', '223 AVENUE LECLERC'],\n",
              " ['ARTHUR', 'JOSEPH', '464 RUE MONIQUE DIAZ'],\n",
              " ['MICHELLE', 'DIALLO', '963 RUE ROLAND ROLLAND'],\n",
              " ['ALPHONSE', 'HOAREAU', '12 AVENUE DE RAYMOND'],\n",
              " ['DOMINIQUE', 'CHEVALIER', '85 RUE DE DIAS'],\n",
              " ['MICHELE', 'LE ROUX', '18 CHEMIN RENE REGNIER'],\n",
              " ['DOMINIQUE', 'IMBERT', '472 BOULEVARD PETIT'],\n",
              " ['CHRISTELLE', 'SAUVAGE', '38 BOULEVARD PONS']]"
            ]
          },
          "metadata": {},
          "execution_count": 7
        }
      ]
    },
    {
      "cell_type": "code",
      "source": [
        "df = pd.DataFrame(data = my_list, columns = ['Prénom', 'Nom','adresse'])"
      ],
      "metadata": {
        "id": "efwkq2GtQpJv"
      },
      "execution_count": 8,
      "outputs": []
    },
    {
      "cell_type": "code",
      "source": [
        "df"
      ],
      "metadata": {
        "id": "8aHkXPwUygwi",
        "colab": {
          "base_uri": "https://localhost:8080/",
          "height": 424
        },
        "outputId": "6e87d2e0-a09c-4b8f-cd87-90688dda0e8a"
      },
      "execution_count": 9,
      "outputs": [
        {
          "output_type": "execute_result",
          "data": {
            "text/html": [
              "\n",
              "  <div id=\"df-b8049b79-262d-4283-8a76-875c34e9f9a9\">\n",
              "    <div class=\"colab-df-container\">\n",
              "      <div>\n",
              "<style scoped>\n",
              "    .dataframe tbody tr th:only-of-type {\n",
              "        vertical-align: middle;\n",
              "    }\n",
              "\n",
              "    .dataframe tbody tr th {\n",
              "        vertical-align: top;\n",
              "    }\n",
              "\n",
              "    .dataframe thead th {\n",
              "        text-align: right;\n",
              "    }\n",
              "</style>\n",
              "<table border=\"1\" class=\"dataframe\">\n",
              "  <thead>\n",
              "    <tr style=\"text-align: right;\">\n",
              "      <th></th>\n",
              "      <th>Prénom</th>\n",
              "      <th>Nom</th>\n",
              "      <th>adresse</th>\n",
              "    </tr>\n",
              "  </thead>\n",
              "  <tbody>\n",
              "    <tr>\n",
              "      <th>0</th>\n",
              "      <td>THERESE</td>\n",
              "      <td>GUYON</td>\n",
              "      <td>9 BOULEVARD MARINE HEBERT</td>\n",
              "    </tr>\n",
              "    <tr>\n",
              "      <th>1</th>\n",
              "      <td>ARTHUR</td>\n",
              "      <td>LAPORTE</td>\n",
              "      <td>919 RUE DE GILLET</td>\n",
              "    </tr>\n",
              "    <tr>\n",
              "      <th>2</th>\n",
              "      <td>FREDERIC</td>\n",
              "      <td>BERNIER</td>\n",
              "      <td>69 RUE DE JOURDAN</td>\n",
              "    </tr>\n",
              "    <tr>\n",
              "      <th>3</th>\n",
              "      <td>CONSTANCE</td>\n",
              "      <td>RENAUD</td>\n",
              "      <td>15 RUE DE BARON</td>\n",
              "    </tr>\n",
              "    <tr>\n",
              "      <th>4</th>\n",
              "      <td>GUY</td>\n",
              "      <td>HERNANDEZ</td>\n",
              "      <td>65 RUE DE PERRET</td>\n",
              "    </tr>\n",
              "    <tr>\n",
              "      <th>...</th>\n",
              "      <td>...</td>\n",
              "      <td>...</td>\n",
              "      <td>...</td>\n",
              "    </tr>\n",
              "    <tr>\n",
              "      <th>95</th>\n",
              "      <td>ALPHONSE</td>\n",
              "      <td>HOAREAU</td>\n",
              "      <td>12 AVENUE DE RAYMOND</td>\n",
              "    </tr>\n",
              "    <tr>\n",
              "      <th>96</th>\n",
              "      <td>DOMINIQUE</td>\n",
              "      <td>CHEVALIER</td>\n",
              "      <td>85 RUE DE DIAS</td>\n",
              "    </tr>\n",
              "    <tr>\n",
              "      <th>97</th>\n",
              "      <td>MICHELE</td>\n",
              "      <td>LE ROUX</td>\n",
              "      <td>18 CHEMIN RENE REGNIER</td>\n",
              "    </tr>\n",
              "    <tr>\n",
              "      <th>98</th>\n",
              "      <td>DOMINIQUE</td>\n",
              "      <td>IMBERT</td>\n",
              "      <td>472 BOULEVARD PETIT</td>\n",
              "    </tr>\n",
              "    <tr>\n",
              "      <th>99</th>\n",
              "      <td>CHRISTELLE</td>\n",
              "      <td>SAUVAGE</td>\n",
              "      <td>38 BOULEVARD PONS</td>\n",
              "    </tr>\n",
              "  </tbody>\n",
              "</table>\n",
              "<p>100 rows × 3 columns</p>\n",
              "</div>\n",
              "      <button class=\"colab-df-convert\" onclick=\"convertToInteractive('df-b8049b79-262d-4283-8a76-875c34e9f9a9')\"\n",
              "              title=\"Convert this dataframe to an interactive table.\"\n",
              "              style=\"display:none;\">\n",
              "        \n",
              "  <svg xmlns=\"http://www.w3.org/2000/svg\" height=\"24px\"viewBox=\"0 0 24 24\"\n",
              "       width=\"24px\">\n",
              "    <path d=\"M0 0h24v24H0V0z\" fill=\"none\"/>\n",
              "    <path d=\"M18.56 5.44l.94 2.06.94-2.06 2.06-.94-2.06-.94-.94-2.06-.94 2.06-2.06.94zm-11 1L8.5 8.5l.94-2.06 2.06-.94-2.06-.94L8.5 2.5l-.94 2.06-2.06.94zm10 10l.94 2.06.94-2.06 2.06-.94-2.06-.94-.94-2.06-.94 2.06-2.06.94z\"/><path d=\"M17.41 7.96l-1.37-1.37c-.4-.4-.92-.59-1.43-.59-.52 0-1.04.2-1.43.59L10.3 9.45l-7.72 7.72c-.78.78-.78 2.05 0 2.83L4 21.41c.39.39.9.59 1.41.59.51 0 1.02-.2 1.41-.59l7.78-7.78 2.81-2.81c.8-.78.8-2.07 0-2.86zM5.41 20L4 18.59l7.72-7.72 1.47 1.35L5.41 20z\"/>\n",
              "  </svg>\n",
              "      </button>\n",
              "      \n",
              "  <style>\n",
              "    .colab-df-container {\n",
              "      display:flex;\n",
              "      flex-wrap:wrap;\n",
              "      gap: 12px;\n",
              "    }\n",
              "\n",
              "    .colab-df-convert {\n",
              "      background-color: #E8F0FE;\n",
              "      border: none;\n",
              "      border-radius: 50%;\n",
              "      cursor: pointer;\n",
              "      display: none;\n",
              "      fill: #1967D2;\n",
              "      height: 32px;\n",
              "      padding: 0 0 0 0;\n",
              "      width: 32px;\n",
              "    }\n",
              "\n",
              "    .colab-df-convert:hover {\n",
              "      background-color: #E2EBFA;\n",
              "      box-shadow: 0px 1px 2px rgba(60, 64, 67, 0.3), 0px 1px 3px 1px rgba(60, 64, 67, 0.15);\n",
              "      fill: #174EA6;\n",
              "    }\n",
              "\n",
              "    [theme=dark] .colab-df-convert {\n",
              "      background-color: #3B4455;\n",
              "      fill: #D2E3FC;\n",
              "    }\n",
              "\n",
              "    [theme=dark] .colab-df-convert:hover {\n",
              "      background-color: #434B5C;\n",
              "      box-shadow: 0px 1px 3px 1px rgba(0, 0, 0, 0.15);\n",
              "      filter: drop-shadow(0px 1px 2px rgba(0, 0, 0, 0.3));\n",
              "      fill: #FFFFFF;\n",
              "    }\n",
              "  </style>\n",
              "\n",
              "      <script>\n",
              "        const buttonEl =\n",
              "          document.querySelector('#df-b8049b79-262d-4283-8a76-875c34e9f9a9 button.colab-df-convert');\n",
              "        buttonEl.style.display =\n",
              "          google.colab.kernel.accessAllowed ? 'block' : 'none';\n",
              "\n",
              "        async function convertToInteractive(key) {\n",
              "          const element = document.querySelector('#df-b8049b79-262d-4283-8a76-875c34e9f9a9');\n",
              "          const dataTable =\n",
              "            await google.colab.kernel.invokeFunction('convertToInteractive',\n",
              "                                                     [key], {});\n",
              "          if (!dataTable) return;\n",
              "\n",
              "          const docLinkHtml = 'Like what you see? Visit the ' +\n",
              "            '<a target=\"_blank\" href=https://colab.research.google.com/notebooks/data_table.ipynb>data table notebook</a>'\n",
              "            + ' to learn more about interactive tables.';\n",
              "          element.innerHTML = '';\n",
              "          dataTable['output_type'] = 'display_data';\n",
              "          await google.colab.output.renderOutput(dataTable, element);\n",
              "          const docLink = document.createElement('div');\n",
              "          docLink.innerHTML = docLinkHtml;\n",
              "          element.appendChild(docLink);\n",
              "        }\n",
              "      </script>\n",
              "    </div>\n",
              "  </div>\n",
              "  "
            ],
            "text/plain": [
              "        Prénom        Nom                    adresse\n",
              "0      THERESE      GUYON  9 BOULEVARD MARINE HEBERT\n",
              "1       ARTHUR    LAPORTE          919 RUE DE GILLET\n",
              "2     FREDERIC    BERNIER          69 RUE DE JOURDAN\n",
              "3    CONSTANCE     RENAUD            15 RUE DE BARON\n",
              "4          GUY  HERNANDEZ           65 RUE DE PERRET\n",
              "..         ...        ...                        ...\n",
              "95    ALPHONSE    HOAREAU       12 AVENUE DE RAYMOND\n",
              "96   DOMINIQUE  CHEVALIER             85 RUE DE DIAS\n",
              "97     MICHELE    LE ROUX     18 CHEMIN RENE REGNIER\n",
              "98   DOMINIQUE     IMBERT        472 BOULEVARD PETIT\n",
              "99  CHRISTELLE    SAUVAGE          38 BOULEVARD PONS\n",
              "\n",
              "[100 rows x 3 columns]"
            ]
          },
          "metadata": {},
          "execution_count": 9
        }
      ]
    },
    {
      "cell_type": "code",
      "source": [
        ""
      ],
      "metadata": {
        "id": "Npgs-wOR3GBx"
      },
      "execution_count": 9,
      "outputs": []
    }
  ]
}